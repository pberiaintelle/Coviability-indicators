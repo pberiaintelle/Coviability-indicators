{
  "nbformat": 4,
  "nbformat_minor": 0,
  "metadata": {
    "colab": {
      "provenance": [],
      "authorship_tag": "ABX9TyOmxFAEYUX0uYnCVJL1ruv/",
      "include_colab_link": true
    },
    "kernelspec": {
      "name": "python3",
      "display_name": "Python 3"
    },
    "language_info": {
      "name": "python"
    }
  },
  "cells": [
    {
      "cell_type": "markdown",
      "metadata": {
        "id": "view-in-github",
        "colab_type": "text"
      },
      "source": [
        "<a href=\"https://colab.research.google.com/github/pberiaintelle/Coviability-indicators/blob/main/Land_use.ipynb\" target=\"_parent\"><img src=\"https://colab.research.google.com/assets/colab-badge.svg\" alt=\"Open In Colab\"/></a>"
      ]
    },
    {
      "cell_type": "code",
      "execution_count": null,
      "metadata": {
        "colab": {
          "base_uri": "https://localhost:8080/",
          "height": 73
        },
        "id": "GYn-B7chE55-",
        "outputId": "0fa28749-0315-4113-9d87-309fbc4f34d1"
      },
      "outputs": [
        {
          "output_type": "display_data",
          "data": {
            "text/plain": [
              "<IPython.core.display.HTML object>"
            ],
            "text/html": [
              "\n",
              "     <input type=\"file\" id=\"files-cc8d87ad-b00b-44ef-8b73-71ae4a1523f6\" name=\"files[]\" multiple disabled\n",
              "        style=\"border:none\" />\n",
              "     <output id=\"result-cc8d87ad-b00b-44ef-8b73-71ae4a1523f6\">\n",
              "      Upload widget is only available when the cell has been executed in the\n",
              "      current browser session. Please rerun this cell to enable.\n",
              "      </output>\n",
              "      <script>// Copyright 2017 Google LLC\n",
              "//\n",
              "// Licensed under the Apache License, Version 2.0 (the \"License\");\n",
              "// you may not use this file except in compliance with the License.\n",
              "// You may obtain a copy of the License at\n",
              "//\n",
              "//      http://www.apache.org/licenses/LICENSE-2.0\n",
              "//\n",
              "// Unless required by applicable law or agreed to in writing, software\n",
              "// distributed under the License is distributed on an \"AS IS\" BASIS,\n",
              "// WITHOUT WARRANTIES OR CONDITIONS OF ANY KIND, either express or implied.\n",
              "// See the License for the specific language governing permissions and\n",
              "// limitations under the License.\n",
              "\n",
              "/**\n",
              " * @fileoverview Helpers for google.colab Python module.\n",
              " */\n",
              "(function(scope) {\n",
              "function span(text, styleAttributes = {}) {\n",
              "  const element = document.createElement('span');\n",
              "  element.textContent = text;\n",
              "  for (const key of Object.keys(styleAttributes)) {\n",
              "    element.style[key] = styleAttributes[key];\n",
              "  }\n",
              "  return element;\n",
              "}\n",
              "\n",
              "// Max number of bytes which will be uploaded at a time.\n",
              "const MAX_PAYLOAD_SIZE = 100 * 1024;\n",
              "\n",
              "function _uploadFiles(inputId, outputId) {\n",
              "  const steps = uploadFilesStep(inputId, outputId);\n",
              "  const outputElement = document.getElementById(outputId);\n",
              "  // Cache steps on the outputElement to make it available for the next call\n",
              "  // to uploadFilesContinue from Python.\n",
              "  outputElement.steps = steps;\n",
              "\n",
              "  return _uploadFilesContinue(outputId);\n",
              "}\n",
              "\n",
              "// This is roughly an async generator (not supported in the browser yet),\n",
              "// where there are multiple asynchronous steps and the Python side is going\n",
              "// to poll for completion of each step.\n",
              "// This uses a Promise to block the python side on completion of each step,\n",
              "// then passes the result of the previous step as the input to the next step.\n",
              "function _uploadFilesContinue(outputId) {\n",
              "  const outputElement = document.getElementById(outputId);\n",
              "  const steps = outputElement.steps;\n",
              "\n",
              "  const next = steps.next(outputElement.lastPromiseValue);\n",
              "  return Promise.resolve(next.value.promise).then((value) => {\n",
              "    // Cache the last promise value to make it available to the next\n",
              "    // step of the generator.\n",
              "    outputElement.lastPromiseValue = value;\n",
              "    return next.value.response;\n",
              "  });\n",
              "}\n",
              "\n",
              "/**\n",
              " * Generator function which is called between each async step of the upload\n",
              " * process.\n",
              " * @param {string} inputId Element ID of the input file picker element.\n",
              " * @param {string} outputId Element ID of the output display.\n",
              " * @return {!Iterable<!Object>} Iterable of next steps.\n",
              " */\n",
              "function* uploadFilesStep(inputId, outputId) {\n",
              "  const inputElement = document.getElementById(inputId);\n",
              "  inputElement.disabled = false;\n",
              "\n",
              "  const outputElement = document.getElementById(outputId);\n",
              "  outputElement.innerHTML = '';\n",
              "\n",
              "  const pickedPromise = new Promise((resolve) => {\n",
              "    inputElement.addEventListener('change', (e) => {\n",
              "      resolve(e.target.files);\n",
              "    });\n",
              "  });\n",
              "\n",
              "  const cancel = document.createElement('button');\n",
              "  inputElement.parentElement.appendChild(cancel);\n",
              "  cancel.textContent = 'Cancel upload';\n",
              "  const cancelPromise = new Promise((resolve) => {\n",
              "    cancel.onclick = () => {\n",
              "      resolve(null);\n",
              "    };\n",
              "  });\n",
              "\n",
              "  // Wait for the user to pick the files.\n",
              "  const files = yield {\n",
              "    promise: Promise.race([pickedPromise, cancelPromise]),\n",
              "    response: {\n",
              "      action: 'starting',\n",
              "    }\n",
              "  };\n",
              "\n",
              "  cancel.remove();\n",
              "\n",
              "  // Disable the input element since further picks are not allowed.\n",
              "  inputElement.disabled = true;\n",
              "\n",
              "  if (!files) {\n",
              "    return {\n",
              "      response: {\n",
              "        action: 'complete',\n",
              "      }\n",
              "    };\n",
              "  }\n",
              "\n",
              "  for (const file of files) {\n",
              "    const li = document.createElement('li');\n",
              "    li.append(span(file.name, {fontWeight: 'bold'}));\n",
              "    li.append(span(\n",
              "        `(${file.type || 'n/a'}) - ${file.size} bytes, ` +\n",
              "        `last modified: ${\n",
              "            file.lastModifiedDate ? file.lastModifiedDate.toLocaleDateString() :\n",
              "                                    'n/a'} - `));\n",
              "    const percent = span('0% done');\n",
              "    li.appendChild(percent);\n",
              "\n",
              "    outputElement.appendChild(li);\n",
              "\n",
              "    const fileDataPromise = new Promise((resolve) => {\n",
              "      const reader = new FileReader();\n",
              "      reader.onload = (e) => {\n",
              "        resolve(e.target.result);\n",
              "      };\n",
              "      reader.readAsArrayBuffer(file);\n",
              "    });\n",
              "    // Wait for the data to be ready.\n",
              "    let fileData = yield {\n",
              "      promise: fileDataPromise,\n",
              "      response: {\n",
              "        action: 'continue',\n",
              "      }\n",
              "    };\n",
              "\n",
              "    // Use a chunked sending to avoid message size limits. See b/62115660.\n",
              "    let position = 0;\n",
              "    do {\n",
              "      const length = Math.min(fileData.byteLength - position, MAX_PAYLOAD_SIZE);\n",
              "      const chunk = new Uint8Array(fileData, position, length);\n",
              "      position += length;\n",
              "\n",
              "      const base64 = btoa(String.fromCharCode.apply(null, chunk));\n",
              "      yield {\n",
              "        response: {\n",
              "          action: 'append',\n",
              "          file: file.name,\n",
              "          data: base64,\n",
              "        },\n",
              "      };\n",
              "\n",
              "      let percentDone = fileData.byteLength === 0 ?\n",
              "          100 :\n",
              "          Math.round((position / fileData.byteLength) * 100);\n",
              "      percent.textContent = `${percentDone}% done`;\n",
              "\n",
              "    } while (position < fileData.byteLength);\n",
              "  }\n",
              "\n",
              "  // All done.\n",
              "  yield {\n",
              "    response: {\n",
              "      action: 'complete',\n",
              "    }\n",
              "  };\n",
              "}\n",
              "\n",
              "scope.google = scope.google || {};\n",
              "scope.google.colab = scope.google.colab || {};\n",
              "scope.google.colab._files = {\n",
              "  _uploadFiles,\n",
              "  _uploadFilesContinue,\n",
              "};\n",
              "})(self);\n",
              "</script> "
            ]
          },
          "metadata": {}
        },
        {
          "output_type": "stream",
          "name": "stdout",
          "text": [
            "Saving vector_area_urban.csv to vector_area_urban.csv\n"
          ]
        }
      ],
      "source": [
        "from google.colab import files\n",
        "a= files.upload()"
      ]
    },
    {
      "cell_type": "code",
      "source": [
        "import pandas as pd\n",
        "import plotly.express as px"
      ],
      "metadata": {
        "id": "AyGWj-pPHSKh"
      },
      "execution_count": null,
      "outputs": []
    },
    {
      "cell_type": "code",
      "source": [
        "# Step 4: Load the data from the CSV file\n",
        "data = pd.read_csv('vector_area_urban.csv')\n",
        "print(data.info())"
      ],
      "metadata": {
        "colab": {
          "base_uri": "https://localhost:8080/"
        },
        "id": "zcuggpweRGTp",
        "outputId": "0a4a5c31-23ce-4d41-b5b9-36d6e7711134"
      },
      "execution_count": null,
      "outputs": [
        {
          "output_type": "stream",
          "name": "stdout",
          "text": [
            "<class 'pandas.core.frame.DataFrame'>\n",
            "RangeIndex: 468 entries, 0 to 467\n",
            "Data columns (total 6 columns):\n",
            " #   Column        Non-Null Count  Dtype  \n",
            "---  ------        --------------  -----  \n",
            " 0   system:index  468 non-null    object \n",
            " 1   area          468 non-null    float64\n",
            " 2   class         468 non-null    int64  \n",
            " 3   id_arp        468 non-null    int64  \n",
            " 4   year          468 non-null    int64  \n",
            " 5   .geo          468 non-null    object \n",
            "dtypes: float64(1), int64(3), object(2)\n",
            "memory usage: 22.1+ KB\n",
            "None\n"
          ]
        }
      ]
    },
    {
      "cell_type": "code",
      "source": [
        "# Create a dictionary to map class values to corresponding strings\n",
        "class_mapping = {\n",
        "    3: 'Forest formation',\n",
        "    4: 'Savanna Formation',\n",
        "    5: 'Magrove',\n",
        "    11: 'Wetland',\n",
        "    12: 'Grassland',\n",
        "    13: 'Other Non Forest Natural Formation',\n",
        "    15: 'Pasture',\n",
        "    20: 'Sugar Cane',\n",
        "    21: 'Mosaic of Agriculture and Pasture',\n",
        "    23: 'Beach and Dune',\n",
        "    24: 'Urban Infrastructure',\n",
        "    25: 'Other Non Vegetated Area',\n",
        "    30: 'Mining',\n",
        "    31: 'Aquaculture',\n",
        "    32: 'Salt flat',\n",
        "    33: 'River, Lake and Ocean',\n",
        "    41: 'Mosaic of Crops',\n",
        "    9: 'Forest Plantation',\n",
        "    # Add more mappings as needed\n",
        "}\n",
        "# Use the map() function to create a new column with the string values\n",
        "data['LandUse'] = data['class'].map(class_mapping)\n",
        "\n",
        "# Now the 'Class_String' column will contain the strings corresponding to the class values\n",
        "#Write land use csv\n",
        "data.to_csv('Land_use_urbanbox.csv', index=False)\n",
        "# Print the updated DataFrame to verify the changes\n",
        "print(data.info())\n",
        "print(data.head(5))\n",
        "# Step 5: Create the line chart using Plotly Express\n",
        "fig = px.line(data, x='year', y='area', color='LandUse', markers=True)\n",
        "\n",
        "# Step 6: Customize the layout (optional)\n",
        "fig.update_layout(\n",
        "   title=\"Land Use Over Time\",\n",
        "   xaxis_title=\"Time\",\n",
        "   yaxis_title=\"Area km2\",\n",
        "   legend_title=\"Land Use\",\n",
        ")\n",
        "\n",
        "# Step 7: Show the plot\n",
        "fig.show()"
      ],
      "metadata": {
        "colab": {
          "base_uri": "https://localhost:8080/",
          "height": 1000
        },
        "id": "i1QPOZoEHp8a",
        "outputId": "90fb5f4e-e525-4aa1-dec5-35341fea812e"
      },
      "execution_count": null,
      "outputs": [
        {
          "output_type": "stream",
          "name": "stdout",
          "text": [
            "<class 'pandas.core.frame.DataFrame'>\n",
            "RangeIndex: 468 entries, 0 to 467\n",
            "Data columns (total 7 columns):\n",
            " #   Column        Non-Null Count  Dtype  \n",
            "---  ------        --------------  -----  \n",
            " 0   system:index  468 non-null    object \n",
            " 1   area          468 non-null    float64\n",
            " 2   class         468 non-null    int64  \n",
            " 3   id_arp        468 non-null    int64  \n",
            " 4   year          468 non-null    int64  \n",
            " 5   .geo          468 non-null    object \n",
            " 6   LandUse       468 non-null    object \n",
            "dtypes: float64(1), int64(3), object(3)\n",
            "memory usage: 25.7+ KB\n",
            "None\n",
            "  system:index       area  class  id_arp  year  \\\n",
            "0      0_0_0_0  44.673146      3       0  1985   \n",
            "1      0_0_0_1   0.131288      4       0  1985   \n",
            "2      0_0_0_2  24.442581      5       0  1985   \n",
            "3      0_0_0_3   4.529489     11       0  1985   \n",
            "4      0_0_0_4   0.009759     13       0  1985   \n",
            "\n",
            "                                     .geo                             LandUse  \n",
            "0  {\"type\":\"MultiPoint\",\"coordinates\":[]}                    Forest formation  \n",
            "1  {\"type\":\"MultiPoint\",\"coordinates\":[]}                   Savanna Formation  \n",
            "2  {\"type\":\"MultiPoint\",\"coordinates\":[]}                             Magrove  \n",
            "3  {\"type\":\"MultiPoint\",\"coordinates\":[]}                             Wetland  \n",
            "4  {\"type\":\"MultiPoint\",\"coordinates\":[]}  Other Non Forest Natural Formation  \n"
          ]
        },
        {
          "output_type": "display_data",
          "data": {
            "text/html": [
              "<html>\n",
              "<head><meta charset=\"utf-8\" /></head>\n",
              "<body>\n",
              "    <div>            <script src=\"https://cdnjs.cloudflare.com/ajax/libs/mathjax/2.7.5/MathJax.js?config=TeX-AMS-MML_SVG\"></script><script type=\"text/javascript\">if (window.MathJax && window.MathJax.Hub && window.MathJax.Hub.Config) {window.MathJax.Hub.Config({SVG: {font: \"STIX-Web\"}});}</script>                <script type=\"text/javascript\">window.PlotlyConfig = {MathJaxConfig: 'local'};</script>\n",
              "        <script charset=\"utf-8\" src=\"https://cdn.plot.ly/plotly-2.24.1.min.js\"></script>                <div id=\"77af19fb-d457-4ae6-bcf2-a7f23273518f\" class=\"plotly-graph-div\" style=\"height:525px; width:100%;\"></div>            <script type=\"text/javascript\">                                    window.PLOTLYENV=window.PLOTLYENV || {};                                    if (document.getElementById(\"77af19fb-d457-4ae6-bcf2-a7f23273518f\")) {                    Plotly.newPlot(                        \"77af19fb-d457-4ae6-bcf2-a7f23273518f\",                        [{\"hovertemplate\":\"LandUse=Forest formation\\u003cbr\\u003eyear=%{x}\\u003cbr\\u003earea=%{y}\\u003cextra\\u003e\\u003c\\u002fextra\\u003e\",\"legendgroup\":\"Forest formation\",\"line\":{\"color\":\"#636efa\",\"dash\":\"solid\"},\"marker\":{\"symbol\":\"circle\"},\"mode\":\"lines+markers\",\"name\":\"Forest formation\",\"orientation\":\"v\",\"showlegend\":true,\"x\":[1985,1986,1987,1988,1989,1990,1991,1992,1993,1994,1995,1996,1997,1998,1999,2000,2001,2002,2003,2004,2005,2006,2007,2008,2009,2010,2011,2012,2013,2014,2015,2016,2017,2018,2019,2020],\"xaxis\":\"x\",\"y\":[44.67314634791045,42.31459213865069,41.37229643829039,41.25014069224075,41.67449466257454,41.9711201345226,43.98357129442029,45.48753701953736,45.782313714367326,45.14956525800035,43.48394414789309,43.78606252451838,43.79826334463607,44.093763000724095,44.62773846334581,44.09837983802083,43.88194196456689,43.93738026188388,43.57987032160302,43.314365316811084,42.75425009159513,42.91247567988129,41.81540812929156,42.251923001962304,42.59264062139721,44.31206290327691,44.48087559225032,46.20724038025146,49.86610891767442,51.44364346297896,52.37887233293719,53.37343930352062,54.42270129367479,53.68725942773923,55.281813534591095,54.88080261955261],\"yaxis\":\"y\",\"type\":\"scatter\"},{\"hovertemplate\":\"LandUse=Savanna Formation\\u003cbr\\u003eyear=%{x}\\u003cbr\\u003earea=%{y}\\u003cextra\\u003e\\u003c\\u002fextra\\u003e\",\"legendgroup\":\"Savanna Formation\",\"line\":{\"color\":\"#EF553B\",\"dash\":\"solid\"},\"marker\":{\"symbol\":\"circle\"},\"mode\":\"lines+markers\",\"name\":\"Savanna Formation\",\"orientation\":\"v\",\"showlegend\":true,\"x\":[1985,1986,1987,1988,1989,1993,1994,1995,1996,1997,1998,1999,2000,2001,2002,2003,2004,2005,2006,2007,2008,2009,2010,2011,2012,2013,2014,2015,2016,2017,2018,2019,2020],\"xaxis\":\"x\",\"y\":[0.1312878751220703,0.0479031390380859,0.0328225985107421,0.0088716281127929,0.0008871626586914063,0.010646066833496,0.010646066833496,0.010646066833496,0.0070978251342773,0.1064585640869141,0.1162176034545899,0.178319118713379,0.1738834693603516,0.2478115020548505,0.2211944142252607,0.2655478569742842,0.340950060343425,0.3303055387369791,0.4510678265096019,0.6378416007690417,0.6671146190795887,0.6387273610229478,0.3122720718383786,0.4329221707153315,0.4684028975830075,0.3184709725341802,0.3007296857910158,0.2856495008544923,0.2581495462646485,0.1809716170043945,0.126856893005371,0.0807259673461913,0.0683077772216796],\"yaxis\":\"y\",\"type\":\"scatter\"},{\"hovertemplate\":\"LandUse=Magrove\\u003cbr\\u003eyear=%{x}\\u003cbr\\u003earea=%{y}\\u003cextra\\u003e\\u003c\\u002fextra\\u003e\",\"legendgroup\":\"Magrove\",\"line\":{\"color\":\"#00cc96\",\"dash\":\"solid\"},\"marker\":{\"symbol\":\"circle\"},\"mode\":\"lines+markers\",\"name\":\"Magrove\",\"orientation\":\"v\",\"showlegend\":true,\"x\":[1985,1986,1987,1988,1989,1990,1991,1992,1993,1994,1995,1996,1997,1998,1999,2000,2001,2002,2003,2004,2005,2006,2007,2008,2009,2010,2011,2012,2013,2014,2015,2016,2017,2018,2019,2020],\"xaxis\":\"x\",\"y\":[24.442580500974543,25.011774715274964,24.945900849487924,24.92752555229038,25.074638764396635,25.108863743729444,25.768085831986696,26.13352015120905,26.11135316268351,26.00884529591712,26.110002803607514,26.39461530227436,26.77606874094468,26.990975783997424,27.470102967093617,27.778870166495576,27.815141676554923,27.853795818894653,27.766550426944058,27.58603289228179,27.50874475188936,27.64005015142555,27.623187080136542,27.301021724106864,27.059335184358773,27.096212182533385,27.24091988371693,27.503135565302504,27.728592873602675,27.76033066138005,27.695565265383912,27.669423688668523,27.394370756844637,27.412115540780203,27.42098676697655,27.430348653945217],\"yaxis\":\"y\",\"type\":\"scatter\"},{\"hovertemplate\":\"LandUse=Wetland\\u003cbr\\u003eyear=%{x}\\u003cbr\\u003earea=%{y}\\u003cextra\\u003e\\u003c\\u002fextra\\u003e\",\"legendgroup\":\"Wetland\",\"line\":{\"color\":\"#ab63fa\",\"dash\":\"solid\"},\"marker\":{\"symbol\":\"circle\"},\"mode\":\"lines+markers\",\"name\":\"Wetland\",\"orientation\":\"v\",\"showlegend\":true,\"x\":[1985,1986,1987,1988,1989,1990,1991,1992,1993,1994,1995,1996,1997,1998,1999,2000,2001,2002,2003,2004,2005,2006,2007,2008,2009,2010,2011,2012,2013,2014,2015,2016,2017,2018,2019,2020],\"xaxis\":\"x\",\"y\":[4.529489159848937,3.706940577618042,3.202572597640212,3.022666182531015,2.977154205993886,2.8808432851507413,2.723230323524619,2.7245461503784165,2.868171353797098,2.917551361321655,2.8185799849659605,2.878078538364065,2.9317176592493333,2.911314361825017,2.901657374898033,2.8787128986936072,2.7625109343991685,2.6849771692868667,2.7305155943184576,2.7553518783150386,2.8978858619138173,3.0238482026120623,3.0912733439084463,3.153874247966925,3.1484315786635397,2.9422046901017653,2.883675603534285,2.751496401568956,2.708181088914574,2.7233776551906157,2.7508805926295805,2.746840219699032,2.718448585604794,2.8144991953115346,2.8570770952138766,3.273239904345693],\"yaxis\":\"y\",\"type\":\"scatter\"},{\"hovertemplate\":\"LandUse=Other Non Forest Natural Formation\\u003cbr\\u003eyear=%{x}\\u003cbr\\u003earea=%{y}\\u003cextra\\u003e\\u003c\\u002fextra\\u003e\",\"legendgroup\":\"Other Non Forest Natural Formation\",\"line\":{\"color\":\"#FFA15A\",\"dash\":\"solid\"},\"marker\":{\"symbol\":\"circle\"},\"mode\":\"lines+markers\",\"name\":\"Other Non Forest Natural Formation\",\"orientation\":\"v\",\"showlegend\":true,\"x\":[1985,1986,1987],\"xaxis\":\"x\",\"y\":[0.0097586981811523,0.0097586981811523,0.0097586981811523],\"yaxis\":\"y\",\"type\":\"scatter\"},{\"hovertemplate\":\"LandUse=Pasture\\u003cbr\\u003eyear=%{x}\\u003cbr\\u003earea=%{y}\\u003cextra\\u003e\\u003c\\u002fextra\\u003e\",\"legendgroup\":\"Pasture\",\"line\":{\"color\":\"#19d3f3\",\"dash\":\"solid\"},\"marker\":{\"symbol\":\"circle\"},\"mode\":\"lines+markers\",\"name\":\"Pasture\",\"orientation\":\"v\",\"showlegend\":true,\"x\":[1985,1986,1987,1988,1989,1990,1991,1992,1993,1994,1995,1996,1997,1998,1999,2000,2001,2002,2003,2004,2005,2006,2007,2008,2009,2010,2011,2012,2013,2014,2015,2016,2017,2018,2019,2020],\"xaxis\":\"x\",\"y\":[1.458592506317019,1.5592985624849156,2.1054181416747983,3.4617500432365995,5.269281066835696,5.7089869520900764,6.1526273109296445,5.432558631071251,5.717378662562061,4.825167913310491,5.085706834808992,3.4324761113118645,2.4277519772542324,2.7368390211710683,4.9721316899206105,8.788468030855263,12.782337196070314,17.52472405423036,18.146367540781405,16.966094935200456,18.081295113349626,20.164877446167544,19.57719059948673,24.44329034893348,30.279990603865752,29.42589614257477,21.94681362060219,18.146863229873446,13.142541824588085,11.943567388974836,11.211848301279048,8.88924950760056,7.442466700686931,4.896618566262939,3.3846397028605346,2.497582022131338],\"yaxis\":\"y\",\"type\":\"scatter\"},{\"hovertemplate\":\"LandUse=Sugar Cane\\u003cbr\\u003eyear=%{x}\\u003cbr\\u003earea=%{y}\\u003cextra\\u003e\\u003c\\u002fextra\\u003e\",\"legendgroup\":\"Sugar Cane\",\"line\":{\"color\":\"#FF6692\",\"dash\":\"solid\"},\"marker\":{\"symbol\":\"circle\"},\"mode\":\"lines+markers\",\"name\":\"Sugar Cane\",\"orientation\":\"v\",\"showlegend\":true,\"x\":[1985,1986,1987,1988,1989,1990,1991,1992,1993,1994,1995,1996,1997,1998,1999,2000,2001,2002,2003,2004,2005,2006,2007,2008,2009,2010,2011,2012,2013,2014,2015,2016,2017,2018,2019,2020],\"xaxis\":\"x\",\"y\":[8.338748480455614,8.30592279753325,8.271557342438847,8.218724556605448,8.10605254873179,8.096294610072128,8.070329496807178,8.06423437100559,8.060683917209207,8.052816460597066,8.003905711215545,7.981603974379524,7.958538382277485,7.980072489527744,7.953457546412523,7.945471744532637,7.900224434840247,7.920394251140699,8.106584700489593,8.12000970792776,8.150175889995669,8.027993011500408,8.006460168926353,7.956775448955645,7.928384016521572,7.9371385038073505,7.976059733185601,7.950331307587462,7.866282754253525,7.8795849147759744,7.857643070887638,7.830907170566191,7.745737750095004,7.689077792445268,7.689965365565384,7.463729083766045],\"yaxis\":\"y\",\"type\":\"scatter\"},{\"hovertemplate\":\"LandUse=Mosaic of Agriculture and Pasture\\u003cbr\\u003eyear=%{x}\\u003cbr\\u003earea=%{y}\\u003cextra\\u003e\\u003c\\u002fextra\\u003e\",\"legendgroup\":\"Mosaic of Agriculture and Pasture\",\"line\":{\"color\":\"#B6E880\",\"dash\":\"solid\"},\"marker\":{\"symbol\":\"circle\"},\"mode\":\"lines+markers\",\"name\":\"Mosaic of Agriculture and Pasture\",\"orientation\":\"v\",\"showlegend\":true,\"x\":[1985,1986,1987,1988,1989,1990,1991,1992,1993,1994,1995,1996,1997,1998,1999,2000,2001,2002,2003,2004,2005,2006,2007,2008,2009,2010,2011,2012,2013,2014,2015,2016,2017,2018,2019,2020],\"xaxis\":\"x\",\"y\":[153.37066342225862,154.83943823535355,156.28663613345228,147.36041650452367,131.213905822982,126.21745448514196,118.80004527310577,116.36432505145852,113.4182073297863,114.22021462615436,113.21065293125336,112.16735042085033,110.66509031530197,108.10900875424436,102.37299654899952,96.6743251256931,91.76286618042644,86.10230011751189,84.27663056731926,84.89147492532595,83.53276854782672,80.36843790078136,81.26299212891105,75.59537009347055,68.27684339197324,66.84184392747002,73.04269729707515,74.65145540015749,75.53076944848544,74.86607642470744,73.91677609220905,74.84822264889287,75.36085417072196,78.20377663872247,78.05319802925659,77.9256113700425],\"yaxis\":\"y\",\"type\":\"scatter\"},{\"hovertemplate\":\"LandUse=Beach and Dune\\u003cbr\\u003eyear=%{x}\\u003cbr\\u003earea=%{y}\\u003cextra\\u003e\\u003c\\u002fextra\\u003e\",\"legendgroup\":\"Beach and Dune\",\"line\":{\"color\":\"#FF97FF\",\"dash\":\"solid\"},\"marker\":{\"symbol\":\"circle\"},\"mode\":\"lines+markers\",\"name\":\"Beach and Dune\",\"orientation\":\"v\",\"showlegend\":true,\"x\":[1985,1986,1987,1988,1989,1990,1991,1992,1993,1994,1995,1996,1997,1998,1999,2000,2001,2002,2003,2004,2005,2006,2007,2008,2009,2010,2011,2012,2013,2014,2015,2016,2017,2018,2019,2020],\"xaxis\":\"x\",\"y\":[0.8614501755981444,0.9390043740373202,0.995782281996304,1.0046520973039217,0.985132120558316,0.9533116449642404,0.9808167136287912,1.0340494348201967,1.0642146389827951,1.073972244756721,1.0426831983252434,1.026104799462891,0.964363309265137,0.8925054782104492,0.8667767308959963,0.8516968728027342,0.8321785497436528,0.8215336531982428,0.8614560684204107,0.8295172583007815,0.8205288208699543,0.7895962817382811,0.8400478464436846,0.8915085180135086,0.9119132359090169,0.9004977741088865,0.8889638336181637,0.904044481445312,0.8364985445027668,0.7460048528523765,0.6518514716349282,0.6137070176554362,0.6128181068888345,0.6208017287760417,0.6678204751749677,0.5817683311930341],\"yaxis\":\"y\",\"type\":\"scatter\"},{\"hovertemplate\":\"LandUse=Urban Infrastructure\\u003cbr\\u003eyear=%{x}\\u003cbr\\u003earea=%{y}\\u003cextra\\u003e\\u003c\\u002fextra\\u003e\",\"legendgroup\":\"Urban Infrastructure\",\"line\":{\"color\":\"#FECB52\",\"dash\":\"solid\"},\"marker\":{\"symbol\":\"circle\"},\"mode\":\"lines+markers\",\"name\":\"Urban Infrastructure\",\"orientation\":\"v\",\"showlegend\":true,\"x\":[1985,1986,1987,1988,1989,1990,1991,1992,1993,1994,1995,1996,1997,1998,1999,2000,2001,2002,2003,2004,2005,2006,2007,2008,2009,2010,2011,2012,2013,2014,2015,2016,2017,2018,2019,2020],\"xaxis\":\"x\",\"y\":[50.13680901088699,53.24970683299893,53.46626857862246,63.28613242354102,90.74292506267292,95.43008367336166,100.08150655558484,101.69787483913484,103.93600040216968,104.80210550112992,107.5876199072722,109.68172826550352,112.0666430152716,113.9045891251594,116.72169427365982,119.19600152255865,120.34847476136588,121.18720312949246,122.37463056662205,123.26472479849296,124.14350137766392,124.68822061362528,125.32620393393024,125.97383119992242,127.42255086196656,128.5916946242477,129.34057572287296,129.7433435528937,130.61098924161809,131.12821467838515,131.9439258904783,132.41145895181882,132.6816397837311,133.185545200965,133.2503090201168,134.35324105719587],\"yaxis\":\"y\",\"type\":\"scatter\"},{\"hovertemplate\":\"LandUse=Other Non Vegetated Area\\u003cbr\\u003eyear=%{x}\\u003cbr\\u003earea=%{y}\\u003cextra\\u003e\\u003c\\u002fextra\\u003e\",\"legendgroup\":\"Other Non Vegetated Area\",\"line\":{\"color\":\"#636efa\",\"dash\":\"solid\"},\"marker\":{\"symbol\":\"circle\"},\"mode\":\"lines+markers\",\"name\":\"Other Non Vegetated Area\",\"orientation\":\"v\",\"showlegend\":true,\"x\":[1985,1986,1987,1988,1989,1990,1991,1992,1993,1994,1995,1996,1997,1998,1999,2000,2001,2002,2003,2004,2005,2006,2007,2008,2009,2010,2011,2012,2013,2014,2015,2016,2017,2018,2019,2020],\"xaxis\":\"x\",\"y\":[19.773349550651897,17.568813464758467,17.015294379906063,14.993190920837442,1.2181138486328085,0.4382330307006836,0.3708124437866208,0.4071814874267578,0.3415407393188474,0.3175930299682615,0.2696894805908203,0.3300076763916015,0.3903249594116211,0.3397592962646484,0.3202445732421874,0.4187093909912109,0.6019523171422617,0.7179229643202837,0.78035711057847,0.7390726394703581,0.6829508938584257,0.8683976113482292,0.8720228717945763,0.8933128636158639,0.8542805072926232,0.7450710206923523,0.6936937129923468,0.5948134888712545,0.4663905474257526,0.4018624830322263,0.4479845319213866,0.503870938720703,0.4983115626993812,0.4646007287760413,0.5481097604451499,0.7752091251302051],\"yaxis\":\"y\",\"type\":\"scatter\"},{\"hovertemplate\":\"LandUse=Aquaculture\\u003cbr\\u003eyear=%{x}\\u003cbr\\u003earea=%{y}\\u003cextra\\u003e\\u003c\\u002fextra\\u003e\",\"legendgroup\":\"Aquaculture\",\"line\":{\"color\":\"#EF553B\",\"dash\":\"solid\"},\"marker\":{\"symbol\":\"circle\"},\"mode\":\"lines+markers\",\"name\":\"Aquaculture\",\"orientation\":\"v\",\"showlegend\":true,\"x\":[1985,1986,1987,1988,1989,1990,1991,1992,1993,1994,1995,1996,1997,1998,1999,2000,2001,2002,2003,2004,2005,2006,2007,2008,2009,2010,2011,2012,2013,2014,2015,2016,2017,2018,2019,2020],\"xaxis\":\"x\",\"y\":[1.1457972631476931,1.1591054306281603,1.4937187491210937,1.464044231731814,1.5313451790893495,1.5488072930075203,1.534404726202746,1.5151616740521567,1.3827664991024164,1.3698534278686447,1.25805100581054,1.398511595801487,1.5077267007841093,1.5579071810144636,1.644958495173905,1.6184324819407634,1.6184308115306074,1.601877526906439,1.6480180878195294,1.6330275626234971,1.6338194542746085,1.6790734672750955,1.6266276342557953,1.6279116471895043,1.658079989779835,1.7805247618135276,1.9278170648530768,1.9326510717443053,1.972580488492351,2.0477002655481686,2.1754708214563845,2.1665975663294312,2.171921317794275,2.1114931880830734,2.089309433566465,2.234917519820635],\"yaxis\":\"y\",\"type\":\"scatter\"},{\"hovertemplate\":\"LandUse=Salt flat\\u003cbr\\u003eyear=%{x}\\u003cbr\\u003earea=%{y}\\u003cextra\\u003e\\u003c\\u002fextra\\u003e\",\"legendgroup\":\"Salt flat\",\"line\":{\"color\":\"#00cc96\",\"dash\":\"solid\"},\"marker\":{\"symbol\":\"circle\"},\"mode\":\"lines+markers\",\"name\":\"Salt flat\",\"orientation\":\"v\",\"showlegend\":true,\"x\":[1985,1986,1987,1988,1989,1990,1991,1992,1993,1994,1995,1996,1997,1998,1999,2000,2001,2002,2003,2004,2005,2006,2007,2008,2009,2010,2011,2012,2013,2014,2015,2016,2017,2018,2019,2020],\"xaxis\":\"x\",\"y\":[0.3277549718757172,0.4229384049797501,0.4637562738762349,0.5311828825798484,0.5764267229118795,0.6207786150017249,0.6065791030388338,0.5622159064445944,0.5249586062126611,0.4355979259643557,0.3592971446533205,0.3548615473632812,0.3850222712402344,0.4159568925862633,0.4301483338094078,0.4368842773104803,0.4821344947177069,0.451087906521906,0.3916449325228825,0.3330843396273747,0.3266341187425799,0.3108998950324561,0.2971856823730464,0.2705734397583005,0.3650310640388033,0.4040659578986662,0.4501992730990539,0.3730062369662415,0.3020332234774716,0.2680787414842789,0.2627538075853531,0.2408132608920226,0.2399266701327452,0.2417010097323546,0.1676573110351562,0.0975733712768553],\"yaxis\":\"y\",\"type\":\"scatter\"},{\"hovertemplate\":\"LandUse=River, Lake and Ocean\\u003cbr\\u003eyear=%{x}\\u003cbr\\u003earea=%{y}\\u003cextra\\u003e\\u003c\\u002fextra\\u003e\",\"legendgroup\":\"River, Lake and Ocean\",\"line\":{\"color\":\"#ab63fa\",\"dash\":\"solid\"},\"marker\":{\"symbol\":\"circle\"},\"mode\":\"lines+markers\",\"name\":\"River, Lake and Ocean\",\"orientation\":\"v\",\"showlegend\":true,\"x\":[1985,1986,1987,1988,1989,1990,1991,1992,1993,1994,1995,1996,1997,1998,1999,2000,2001,2002,2003,2004,2005,2006,2007,2008,2009,2010,2011,2012,2013,2014,2015,2016,2017,2018,2019,2020],\"xaxis\":\"x\",\"y\":[7.650632128093689,7.72195968494017,7.195372207701976,7.335841814079334,7.4894604484385345,7.884153286727175,7.788694797300148,7.433063557160084,7.640694661022312,7.675000690257188,7.616376126720542,7.4159952469092785,6.88007418674511,6.810021843138971,6.392004681332603,6.006589854155437,5.822039300200356,5.8265556666058895,5.921886080723655,6.0825633418485685,5.961475955681072,5.933993967662629,5.880715689324845,5.832424239257351,5.723610249548847,5.572994962974409,5.55371690880511,5.630371762817662,5.469572536556955,5.329354341324869,5.241956736479152,5.241884407852951,5.313352665718829,5.322078708385266,5.284811639928719,5.2038517138389615],\"yaxis\":\"y\",\"type\":\"scatter\"}],                        {\"template\":{\"data\":{\"histogram2dcontour\":[{\"type\":\"histogram2dcontour\",\"colorbar\":{\"outlinewidth\":0,\"ticks\":\"\"},\"colorscale\":[[0.0,\"#0d0887\"],[0.1111111111111111,\"#46039f\"],[0.2222222222222222,\"#7201a8\"],[0.3333333333333333,\"#9c179e\"],[0.4444444444444444,\"#bd3786\"],[0.5555555555555556,\"#d8576b\"],[0.6666666666666666,\"#ed7953\"],[0.7777777777777778,\"#fb9f3a\"],[0.8888888888888888,\"#fdca26\"],[1.0,\"#f0f921\"]]}],\"choropleth\":[{\"type\":\"choropleth\",\"colorbar\":{\"outlinewidth\":0,\"ticks\":\"\"}}],\"histogram2d\":[{\"type\":\"histogram2d\",\"colorbar\":{\"outlinewidth\":0,\"ticks\":\"\"},\"colorscale\":[[0.0,\"#0d0887\"],[0.1111111111111111,\"#46039f\"],[0.2222222222222222,\"#7201a8\"],[0.3333333333333333,\"#9c179e\"],[0.4444444444444444,\"#bd3786\"],[0.5555555555555556,\"#d8576b\"],[0.6666666666666666,\"#ed7953\"],[0.7777777777777778,\"#fb9f3a\"],[0.8888888888888888,\"#fdca26\"],[1.0,\"#f0f921\"]]}],\"heatmap\":[{\"type\":\"heatmap\",\"colorbar\":{\"outlinewidth\":0,\"ticks\":\"\"},\"colorscale\":[[0.0,\"#0d0887\"],[0.1111111111111111,\"#46039f\"],[0.2222222222222222,\"#7201a8\"],[0.3333333333333333,\"#9c179e\"],[0.4444444444444444,\"#bd3786\"],[0.5555555555555556,\"#d8576b\"],[0.6666666666666666,\"#ed7953\"],[0.7777777777777778,\"#fb9f3a\"],[0.8888888888888888,\"#fdca26\"],[1.0,\"#f0f921\"]]}],\"heatmapgl\":[{\"type\":\"heatmapgl\",\"colorbar\":{\"outlinewidth\":0,\"ticks\":\"\"},\"colorscale\":[[0.0,\"#0d0887\"],[0.1111111111111111,\"#46039f\"],[0.2222222222222222,\"#7201a8\"],[0.3333333333333333,\"#9c179e\"],[0.4444444444444444,\"#bd3786\"],[0.5555555555555556,\"#d8576b\"],[0.6666666666666666,\"#ed7953\"],[0.7777777777777778,\"#fb9f3a\"],[0.8888888888888888,\"#fdca26\"],[1.0,\"#f0f921\"]]}],\"contourcarpet\":[{\"type\":\"contourcarpet\",\"colorbar\":{\"outlinewidth\":0,\"ticks\":\"\"}}],\"contour\":[{\"type\":\"contour\",\"colorbar\":{\"outlinewidth\":0,\"ticks\":\"\"},\"colorscale\":[[0.0,\"#0d0887\"],[0.1111111111111111,\"#46039f\"],[0.2222222222222222,\"#7201a8\"],[0.3333333333333333,\"#9c179e\"],[0.4444444444444444,\"#bd3786\"],[0.5555555555555556,\"#d8576b\"],[0.6666666666666666,\"#ed7953\"],[0.7777777777777778,\"#fb9f3a\"],[0.8888888888888888,\"#fdca26\"],[1.0,\"#f0f921\"]]}],\"surface\":[{\"type\":\"surface\",\"colorbar\":{\"outlinewidth\":0,\"ticks\":\"\"},\"colorscale\":[[0.0,\"#0d0887\"],[0.1111111111111111,\"#46039f\"],[0.2222222222222222,\"#7201a8\"],[0.3333333333333333,\"#9c179e\"],[0.4444444444444444,\"#bd3786\"],[0.5555555555555556,\"#d8576b\"],[0.6666666666666666,\"#ed7953\"],[0.7777777777777778,\"#fb9f3a\"],[0.8888888888888888,\"#fdca26\"],[1.0,\"#f0f921\"]]}],\"mesh3d\":[{\"type\":\"mesh3d\",\"colorbar\":{\"outlinewidth\":0,\"ticks\":\"\"}}],\"scatter\":[{\"fillpattern\":{\"fillmode\":\"overlay\",\"size\":10,\"solidity\":0.2},\"type\":\"scatter\"}],\"parcoords\":[{\"type\":\"parcoords\",\"line\":{\"colorbar\":{\"outlinewidth\":0,\"ticks\":\"\"}}}],\"scatterpolargl\":[{\"type\":\"scatterpolargl\",\"marker\":{\"colorbar\":{\"outlinewidth\":0,\"ticks\":\"\"}}}],\"bar\":[{\"error_x\":{\"color\":\"#2a3f5f\"},\"error_y\":{\"color\":\"#2a3f5f\"},\"marker\":{\"line\":{\"color\":\"#E5ECF6\",\"width\":0.5},\"pattern\":{\"fillmode\":\"overlay\",\"size\":10,\"solidity\":0.2}},\"type\":\"bar\"}],\"scattergeo\":[{\"type\":\"scattergeo\",\"marker\":{\"colorbar\":{\"outlinewidth\":0,\"ticks\":\"\"}}}],\"scatterpolar\":[{\"type\":\"scatterpolar\",\"marker\":{\"colorbar\":{\"outlinewidth\":0,\"ticks\":\"\"}}}],\"histogram\":[{\"marker\":{\"pattern\":{\"fillmode\":\"overlay\",\"size\":10,\"solidity\":0.2}},\"type\":\"histogram\"}],\"scattergl\":[{\"type\":\"scattergl\",\"marker\":{\"colorbar\":{\"outlinewidth\":0,\"ticks\":\"\"}}}],\"scatter3d\":[{\"type\":\"scatter3d\",\"line\":{\"colorbar\":{\"outlinewidth\":0,\"ticks\":\"\"}},\"marker\":{\"colorbar\":{\"outlinewidth\":0,\"ticks\":\"\"}}}],\"scattermapbox\":[{\"type\":\"scattermapbox\",\"marker\":{\"colorbar\":{\"outlinewidth\":0,\"ticks\":\"\"}}}],\"scatterternary\":[{\"type\":\"scatterternary\",\"marker\":{\"colorbar\":{\"outlinewidth\":0,\"ticks\":\"\"}}}],\"scattercarpet\":[{\"type\":\"scattercarpet\",\"marker\":{\"colorbar\":{\"outlinewidth\":0,\"ticks\":\"\"}}}],\"carpet\":[{\"aaxis\":{\"endlinecolor\":\"#2a3f5f\",\"gridcolor\":\"white\",\"linecolor\":\"white\",\"minorgridcolor\":\"white\",\"startlinecolor\":\"#2a3f5f\"},\"baxis\":{\"endlinecolor\":\"#2a3f5f\",\"gridcolor\":\"white\",\"linecolor\":\"white\",\"minorgridcolor\":\"white\",\"startlinecolor\":\"#2a3f5f\"},\"type\":\"carpet\"}],\"table\":[{\"cells\":{\"fill\":{\"color\":\"#EBF0F8\"},\"line\":{\"color\":\"white\"}},\"header\":{\"fill\":{\"color\":\"#C8D4E3\"},\"line\":{\"color\":\"white\"}},\"type\":\"table\"}],\"barpolar\":[{\"marker\":{\"line\":{\"color\":\"#E5ECF6\",\"width\":0.5},\"pattern\":{\"fillmode\":\"overlay\",\"size\":10,\"solidity\":0.2}},\"type\":\"barpolar\"}],\"pie\":[{\"automargin\":true,\"type\":\"pie\"}]},\"layout\":{\"autotypenumbers\":\"strict\",\"colorway\":[\"#636efa\",\"#EF553B\",\"#00cc96\",\"#ab63fa\",\"#FFA15A\",\"#19d3f3\",\"#FF6692\",\"#B6E880\",\"#FF97FF\",\"#FECB52\"],\"font\":{\"color\":\"#2a3f5f\"},\"hovermode\":\"closest\",\"hoverlabel\":{\"align\":\"left\"},\"paper_bgcolor\":\"white\",\"plot_bgcolor\":\"#E5ECF6\",\"polar\":{\"bgcolor\":\"#E5ECF6\",\"angularaxis\":{\"gridcolor\":\"white\",\"linecolor\":\"white\",\"ticks\":\"\"},\"radialaxis\":{\"gridcolor\":\"white\",\"linecolor\":\"white\",\"ticks\":\"\"}},\"ternary\":{\"bgcolor\":\"#E5ECF6\",\"aaxis\":{\"gridcolor\":\"white\",\"linecolor\":\"white\",\"ticks\":\"\"},\"baxis\":{\"gridcolor\":\"white\",\"linecolor\":\"white\",\"ticks\":\"\"},\"caxis\":{\"gridcolor\":\"white\",\"linecolor\":\"white\",\"ticks\":\"\"}},\"coloraxis\":{\"colorbar\":{\"outlinewidth\":0,\"ticks\":\"\"}},\"colorscale\":{\"sequential\":[[0.0,\"#0d0887\"],[0.1111111111111111,\"#46039f\"],[0.2222222222222222,\"#7201a8\"],[0.3333333333333333,\"#9c179e\"],[0.4444444444444444,\"#bd3786\"],[0.5555555555555556,\"#d8576b\"],[0.6666666666666666,\"#ed7953\"],[0.7777777777777778,\"#fb9f3a\"],[0.8888888888888888,\"#fdca26\"],[1.0,\"#f0f921\"]],\"sequentialminus\":[[0.0,\"#0d0887\"],[0.1111111111111111,\"#46039f\"],[0.2222222222222222,\"#7201a8\"],[0.3333333333333333,\"#9c179e\"],[0.4444444444444444,\"#bd3786\"],[0.5555555555555556,\"#d8576b\"],[0.6666666666666666,\"#ed7953\"],[0.7777777777777778,\"#fb9f3a\"],[0.8888888888888888,\"#fdca26\"],[1.0,\"#f0f921\"]],\"diverging\":[[0,\"#8e0152\"],[0.1,\"#c51b7d\"],[0.2,\"#de77ae\"],[0.3,\"#f1b6da\"],[0.4,\"#fde0ef\"],[0.5,\"#f7f7f7\"],[0.6,\"#e6f5d0\"],[0.7,\"#b8e186\"],[0.8,\"#7fbc41\"],[0.9,\"#4d9221\"],[1,\"#276419\"]]},\"xaxis\":{\"gridcolor\":\"white\",\"linecolor\":\"white\",\"ticks\":\"\",\"title\":{\"standoff\":15},\"zerolinecolor\":\"white\",\"automargin\":true,\"zerolinewidth\":2},\"yaxis\":{\"gridcolor\":\"white\",\"linecolor\":\"white\",\"ticks\":\"\",\"title\":{\"standoff\":15},\"zerolinecolor\":\"white\",\"automargin\":true,\"zerolinewidth\":2},\"scene\":{\"xaxis\":{\"backgroundcolor\":\"#E5ECF6\",\"gridcolor\":\"white\",\"linecolor\":\"white\",\"showbackground\":true,\"ticks\":\"\",\"zerolinecolor\":\"white\",\"gridwidth\":2},\"yaxis\":{\"backgroundcolor\":\"#E5ECF6\",\"gridcolor\":\"white\",\"linecolor\":\"white\",\"showbackground\":true,\"ticks\":\"\",\"zerolinecolor\":\"white\",\"gridwidth\":2},\"zaxis\":{\"backgroundcolor\":\"#E5ECF6\",\"gridcolor\":\"white\",\"linecolor\":\"white\",\"showbackground\":true,\"ticks\":\"\",\"zerolinecolor\":\"white\",\"gridwidth\":2}},\"shapedefaults\":{\"line\":{\"color\":\"#2a3f5f\"}},\"annotationdefaults\":{\"arrowcolor\":\"#2a3f5f\",\"arrowhead\":0,\"arrowwidth\":1},\"geo\":{\"bgcolor\":\"white\",\"landcolor\":\"#E5ECF6\",\"subunitcolor\":\"white\",\"showland\":true,\"showlakes\":true,\"lakecolor\":\"white\"},\"title\":{\"x\":0.05},\"mapbox\":{\"style\":\"light\"}}},\"xaxis\":{\"anchor\":\"y\",\"domain\":[0.0,1.0],\"title\":{\"text\":\"Time\"}},\"yaxis\":{\"anchor\":\"x\",\"domain\":[0.0,1.0],\"title\":{\"text\":\"Area km2\"}},\"legend\":{\"title\":{\"text\":\"Land Use\"},\"tracegroupgap\":0},\"margin\":{\"t\":60},\"title\":{\"text\":\"Land Use Over Time\"}},                        {\"responsive\": true}                    ).then(function(){\n",
              "                            \n",
              "var gd = document.getElementById('77af19fb-d457-4ae6-bcf2-a7f23273518f');\n",
              "var x = new MutationObserver(function (mutations, observer) {{\n",
              "        var display = window.getComputedStyle(gd).display;\n",
              "        if (!display || display === 'none') {{\n",
              "            console.log([gd, 'removed!']);\n",
              "            Plotly.purge(gd);\n",
              "            observer.disconnect();\n",
              "        }}\n",
              "}});\n",
              "\n",
              "// Listen for the removal of the full notebook cells\n",
              "var notebookContainer = gd.closest('#notebook-container');\n",
              "if (notebookContainer) {{\n",
              "    x.observe(notebookContainer, {childList: true});\n",
              "}}\n",
              "\n",
              "// Listen for the clearing of the current output cell\n",
              "var outputEl = gd.closest('.output');\n",
              "if (outputEl) {{\n",
              "    x.observe(outputEl, {childList: true});\n",
              "}}\n",
              "\n",
              "                        })                };                            </script>        </div>\n",
              "</body>\n",
              "</html>"
            ]
          },
          "metadata": {}
        }
      ]
    },
    {
      "cell_type": "code",
      "source": [
        "print(data.head(5))"
      ],
      "metadata": {
        "colab": {
          "base_uri": "https://localhost:8080/"
        },
        "id": "u90fAMsN-rmq",
        "outputId": "835a2684-c689-4552-eeb3-49b18b52c1ab"
      },
      "execution_count": null,
      "outputs": [
        {
          "output_type": "stream",
          "name": "stdout",
          "text": [
            "                 system:index         area  class  id_arp  year  \\\n",
            "0  0_00000000000000000000_0_0  2384.931278      3       0  1985   \n",
            "1  0_00000000000000000000_0_1  2070.467197      4       0  1985   \n",
            "2  0_00000000000000000000_0_2   173.213761      5       0  1985   \n",
            "3  0_00000000000000000000_0_3   143.281101     11       0  1985   \n",
            "4  0_00000000000000000000_0_4    31.554446     12       0  1985   \n",
            "\n",
            "                                     .geo            LandUse  \n",
            "0  {\"type\":\"MultiPoint\",\"coordinates\":[]}   Forest formation  \n",
            "1  {\"type\":\"MultiPoint\",\"coordinates\":[]}  Savanna Formation  \n",
            "2  {\"type\":\"MultiPoint\",\"coordinates\":[]}            Magrove  \n",
            "3  {\"type\":\"MultiPoint\",\"coordinates\":[]}            Wetland  \n",
            "4  {\"type\":\"MultiPoint\",\"coordinates\":[]}          Grassland  \n"
          ]
        }
      ]
    },
    {
      "cell_type": "markdown",
      "source": [
        "Merge classes"
      ],
      "metadata": {
        "id": "DiFlZc3L5Qoc"
      }
    },
    {
      "cell_type": "code",
      "source": [
        "df_merged = data.copy()\n",
        "# Mapping dictionary to group classes into 4 land use classes\n",
        "land_use_merged = {\n",
        "    'Forest formation':'Forest',\n",
        "    'Savanna Formation':'Forest',\n",
        "    'Magrove':'Forest',\n",
        "    'Wetland':'Other',\n",
        "    'Grassland':'Grassland',\n",
        "    'Other Non Forest Natural Formation':'Grassland',\n",
        "    'Pasture' :'Grassland',\n",
        "    'Sugar Cane' :'Agriculture',\n",
        "    'Mosaic of Agriculture and Pasture':'Agriculture',\n",
        "    'Beach and Dune':'Other',\n",
        "    'Urban Infrastructure':'Urban',\n",
        "    'Other Non Vegetated Area':'Other',\n",
        "    'Mining':'Urban',\n",
        "    'Aquaculture':'Other',\n",
        "    'Salt flat':'Other',\n",
        "    'River, Lake and Ocean':'Other',\n",
        "    'Mosaic of Crops':'Agriculture',\n",
        "    'Forest Plantation':'Forest',\n",
        "}\n",
        "\n",
        "# Replace the old class values with the new class values using the mapping dictionary\n",
        "df_merged['Merged'] = df_merged['LandUse'].map(land_use_merged)\n",
        "# Group by 'Merged' and sum the 'Area' column for each group\n",
        "df_merged_areas = df_merged.groupby(['Merged','year']).agg({\n",
        "    'area': 'sum',\n",
        "    '.geo':'sum'# Use 'first' to keep the first value of the non-numeric column\n",
        "}).reset_index()\n",
        "#Write land use csv\n",
        "df_merged_areas.to_csv('lu_agg.csv', index=False)\n",
        "print(df_merged_areas)"
      ],
      "metadata": {
        "colab": {
          "base_uri": "https://localhost:8080/"
        },
        "id": "oCjhjBGN5TQk",
        "outputId": "b92ea13c-d28b-4f7a-8282-01f5c3d1ecb6"
      },
      "execution_count": null,
      "outputs": [
        {
          "output_type": "stream",
          "name": "stdout",
          "text": [
            "          Merged  year         area  \\\n",
            "0    Agriculture  1985  6636.128781   \n",
            "1    Agriculture  1986  6353.181747   \n",
            "2    Agriculture  1987  6041.177407   \n",
            "3    Agriculture  1988  5721.846424   \n",
            "4    Agriculture  1989  5443.988797   \n",
            "..           ...   ...          ...   \n",
            "175        Urban  2016   343.132340   \n",
            "176        Urban  2017   345.293767   \n",
            "177        Urban  2018   347.469296   \n",
            "178        Urban  2019   348.276530   \n",
            "179        Urban  2020   354.143262   \n",
            "\n",
            "                                                  .geo  \n",
            "0    {\"type\":\"MultiPoint\",\"coordinates\":[]}{\"type\":...  \n",
            "1    {\"type\":\"MultiPoint\",\"coordinates\":[]}{\"type\":...  \n",
            "2    {\"type\":\"MultiPoint\",\"coordinates\":[]}{\"type\":...  \n",
            "3    {\"type\":\"MultiPoint\",\"coordinates\":[]}{\"type\":...  \n",
            "4    {\"type\":\"MultiPoint\",\"coordinates\":[]}{\"type\":...  \n",
            "..                                                 ...  \n",
            "175  {\"type\":\"MultiPoint\",\"coordinates\":[]}{\"type\":...  \n",
            "176  {\"type\":\"MultiPoint\",\"coordinates\":[]}{\"type\":...  \n",
            "177  {\"type\":\"MultiPoint\",\"coordinates\":[]}{\"type\":...  \n",
            "178  {\"type\":\"MultiPoint\",\"coordinates\":[]}{\"type\":...  \n",
            "179  {\"type\":\"MultiPoint\",\"coordinates\":[]}{\"type\":...  \n",
            "\n",
            "[180 rows x 4 columns]\n"
          ]
        }
      ]
    },
    {
      "cell_type": "code",
      "source": [
        "\n",
        "# Step 5: Create the line chart using Plotly Express\n",
        "fig = px.line(df_merged_areas, x='year', y='area', color='Merged', markers=True)\n",
        "\n",
        "# Step 6: Customize the layout (optional)\n",
        "fig.update_layout(\n",
        "   title=\"Land Use Over Time\",\n",
        "   xaxis_title=\"Time\",\n",
        "   yaxis_title=\"Area km2\",\n",
        "   legend_title=\"Land Use\",\n",
        ")\n",
        "\n",
        "# Step 7: Show the plot\n",
        "fig.show()"
      ],
      "metadata": {
        "colab": {
          "base_uri": "https://localhost:8080/",
          "height": 542
        },
        "id": "v_NUOsvaG_8C",
        "outputId": "c657682e-19a7-41b9-e2c2-d9302674686f"
      },
      "execution_count": null,
      "outputs": [
        {
          "output_type": "display_data",
          "data": {
            "text/html": [
              "<html>\n",
              "<head><meta charset=\"utf-8\" /></head>\n",
              "<body>\n",
              "    <div>            <script src=\"https://cdnjs.cloudflare.com/ajax/libs/mathjax/2.7.5/MathJax.js?config=TeX-AMS-MML_SVG\"></script><script type=\"text/javascript\">if (window.MathJax && window.MathJax.Hub && window.MathJax.Hub.Config) {window.MathJax.Hub.Config({SVG: {font: \"STIX-Web\"}});}</script>                <script type=\"text/javascript\">window.PlotlyConfig = {MathJaxConfig: 'local'};</script>\n",
              "        <script src=\"https://cdn.plot.ly/plotly-2.18.2.min.js\"></script>                <div id=\"a83d371d-1749-4b86-a53e-0ae5bf038ac6\" class=\"plotly-graph-div\" style=\"height:525px; width:100%;\"></div>            <script type=\"text/javascript\">                                    window.PLOTLYENV=window.PLOTLYENV || {};                                    if (document.getElementById(\"a83d371d-1749-4b86-a53e-0ae5bf038ac6\")) {                    Plotly.newPlot(                        \"a83d371d-1749-4b86-a53e-0ae5bf038ac6\",                        [{\"hovertemplate\":\"Merged=Crop<br>year=%{x}<br>area=%{y}<extra></extra>\",\"legendgroup\":\"Crop\",\"line\":{\"color\":\"#636efa\",\"dash\":\"solid\"},\"marker\":{\"symbol\":\"circle\"},\"mode\":\"markers+lines\",\"name\":\"Crop\",\"orientation\":\"v\",\"showlegend\":true,\"x\":[1985,1986,1987,1988,1989,1990,1991,1992,1993,1994,1995,1996,1997,1998,1999,2000,2001,2002,2003,2004,2005,2006,2007,2008,2009,2010,2011,2012,2013,2014,2015,2016,2017,2018,2019,2020],\"xaxis\":\"x\",\"y\":[6751.061784037939,6480.837830994016,6169.704649648846,5849.498624227319,5574.539739023323,5117.698638553911,4867.8883024991,5155.824357370356,5133.050738758221,5070.889128152433,5055.277482235697,5145.306575600864,5395.375542420541,5503.998927141542,5033.668707813268,4717.93410229453,4646.193344235374,4517.291093167028,4355.191826506101,4380.712065823342,4495.455788436832,4375.860160444532,4366.997155341089,4387.617173441738,4242.6867237449305,4382.623597884223,4472.74709238534,4356.2936380802075,4211.719441269506,4142.921449368057,4157.915793591029,4182.040064075847,4313.064457514711,4585.460286320647,4769.588038693933,4924.931684562787],\"yaxis\":\"y\",\"type\":\"scatter\"},{\"hovertemplate\":\"Merged=Forest<br>year=%{x}<br>area=%{y}<extra></extra>\",\"legendgroup\":\"Forest\",\"line\":{\"color\":\"#EF553B\",\"dash\":\"solid\"},\"marker\":{\"symbol\":\"circle\"},\"mode\":\"markers+lines\",\"name\":\"Forest\",\"orientation\":\"v\",\"showlegend\":true,\"x\":[1985,1986,1987,1988,1989,1990,1991,1992,1993,1994,1995,1996,1997,1998,1999,2000,2001,2002,2003,2004,2005,2006,2007,2008,2009,2010,2011,2012,2013,2014,2015,2016,2017,2018,2019,2020],\"xaxis\":\"x\",\"y\":[4628.612236335351,4853.354069131111,4780.518648599831,4360.076420254029,3591.16379709895,3855.006006361252,4498.302199855636,4464.234871480127,4086.3505654783457,4449.41247738473,4949.743104184096,4691.142851886679,3846.5118116265244,3528.7477565715653,4000.7149263172355,3715.8012215870613,3189.0626937144207,2922.213391626014,3129.5006111666476,3210.657133776099,2950.6529114299547,2864.2008297304747,3788.4728445728438,3319.488683327118,3284.134639872822,2486.075808994634,2632.6467818359138,2788.078964815878,3142.6624925994006,3233.67926455192,3261.14054392849,3703.4693505833243,3649.64918269079,3965.475311237883,4353.213257339298,4105.010856630756],\"yaxis\":\"y\",\"type\":\"scatter\"},{\"hovertemplate\":\"Merged=Grassland<br>year=%{x}<br>area=%{y}<extra></extra>\",\"legendgroup\":\"Grassland\",\"line\":{\"color\":\"#00cc96\",\"dash\":\"solid\"},\"marker\":{\"symbol\":\"circle\"},\"mode\":\"markers+lines\",\"name\":\"Grassland\",\"orientation\":\"v\",\"showlegend\":true,\"x\":[1985,1986,1987,1988,1989,1990,1991,1992,1993,1994,1995,1996,1997,1998,1999,2000,2001,2002,2003,2004,2005,2006,2007,2008,2009,2010,2011,2012,2013,2014,2015,2016,2017,2018,2019,2020],\"xaxis\":\"x\",\"y\":[784.8708011783934,822.9490404884035,1222.9876892916716,1961.759501288548,2984.408147591297,3169.0502306859566,2769.171184312271,2510.165642722128,2903.443025287801,2595.520826653887,2102.648166895379,2266.5169479656347,2851.7587693082805,3054.478951849826,3045.6889338089013,3637.7748370759036,4230.740706928355,4620.698630385199,4566.651078764804,4454.094852837701,4593.611816722429,4790.325165038164,3862.2775865577214,4182.291884236349,4349.473912386565,5101.504977690773,4904.670421757453,4868.826293490447,4655.038378472535,4628.509246757405,4583.461964632487,4115.219570698942,4035.1838086650605,3442.3759202831234,2862.76746623836,2938.3232990162023],\"yaxis\":\"y\",\"type\":\"scatter\"},{\"hovertemplate\":\"Merged=Other<br>year=%{x}<br>area=%{y}<extra></extra>\",\"legendgroup\":\"Other\",\"line\":{\"color\":\"#ab63fa\",\"dash\":\"solid\"},\"marker\":{\"symbol\":\"circle\"},\"mode\":\"markers+lines\",\"name\":\"Other\",\"orientation\":\"v\",\"showlegend\":true,\"x\":[1985,1986,1987,1988,1989,1990,1991,1992,1993,1994,1995,1996,1997,1998,1999,2000,2001,2002,2003,2004,2005,2006,2007,2008,2009,2010,2011,2012,2013,2014,2015,2016,2017,2018,2019,2020],\"xaxis\":\"x\",\"y\":[208.28924780541536,194.36371110193704,175.4268423226909,158.69493796459736,140.8008317425116,137.36347108915257,134.04729224417065,133.38079517236613,133.32514212098602,137.58561013805252,136.1925196400055,135.11053647601824,137.96047869127952,137.487601277216,135.96831174314718,137.69935909970258,137.98937228364997,139.50270260473397,142.39329834235608,143.63829249804996,145.0957099835584,151.77717903968912,162.25000926098494,288.06945182160655,297.5989188207034,199.80821862407626,156.25813535377233,147.34197961236416,146.04726378626324,146.42080881741657,145.9763617752008,145.14323338093007,145.76277416332695,148.19268893011423,155.14507717396094,166.602567666843],\"yaxis\":\"y\",\"type\":\"scatter\"},{\"hovertemplate\":\"Merged=Urban<br>year=%{x}<br>area=%{y}<extra></extra>\",\"legendgroup\":\"Urban\",\"line\":{\"color\":\"#FFA15A\",\"dash\":\"solid\"},\"marker\":{\"symbol\":\"circle\"},\"mode\":\"markers+lines\",\"name\":\"Urban\",\"orientation\":\"v\",\"showlegend\":true,\"x\":[1985,1986,1987,1988,1989,1990,1991,1992,1993,1994,1995,1996,1997,1998,1999,2000,2001,2002,2003,2004,2005,2006,2007,2008,2009,2010,2011,2012,2013,2014,2015,2016,2017,2018,2019,2020],\"xaxis\":\"x\",\"y\":[116.31421591592606,137.64894535202163,140.54858595831902,159.14097682942483,198.26507198472956,210.0965049102053,219.78902622967072,225.58967910367755,233.01698325494291,235.76864401860985,245.31984263067932,251.10597709149832,257.59226508681763,264.49893021561735,273.13934431935263,279.9973189554443,285.1675188385803,289.4140784416216,295.3334166674588,300.010454158975,304.2424631314986,306.95299430970437,309.1293965190547,311.60657979786765,315.2017491686513,319.0878093283175,322.8107788111137,328.55864731528743,333.58136765151335,337.5829120317918,340.5942088124073,343.1323398738065,345.2937674168528,347.46929592212683,348.2765304393835,354.1432618491903],\"yaxis\":\"y\",\"type\":\"scatter\"}],                        {\"template\":{\"data\":{\"histogram2dcontour\":[{\"type\":\"histogram2dcontour\",\"colorbar\":{\"outlinewidth\":0,\"ticks\":\"\"},\"colorscale\":[[0.0,\"#0d0887\"],[0.1111111111111111,\"#46039f\"],[0.2222222222222222,\"#7201a8\"],[0.3333333333333333,\"#9c179e\"],[0.4444444444444444,\"#bd3786\"],[0.5555555555555556,\"#d8576b\"],[0.6666666666666666,\"#ed7953\"],[0.7777777777777778,\"#fb9f3a\"],[0.8888888888888888,\"#fdca26\"],[1.0,\"#f0f921\"]]}],\"choropleth\":[{\"type\":\"choropleth\",\"colorbar\":{\"outlinewidth\":0,\"ticks\":\"\"}}],\"histogram2d\":[{\"type\":\"histogram2d\",\"colorbar\":{\"outlinewidth\":0,\"ticks\":\"\"},\"colorscale\":[[0.0,\"#0d0887\"],[0.1111111111111111,\"#46039f\"],[0.2222222222222222,\"#7201a8\"],[0.3333333333333333,\"#9c179e\"],[0.4444444444444444,\"#bd3786\"],[0.5555555555555556,\"#d8576b\"],[0.6666666666666666,\"#ed7953\"],[0.7777777777777778,\"#fb9f3a\"],[0.8888888888888888,\"#fdca26\"],[1.0,\"#f0f921\"]]}],\"heatmap\":[{\"type\":\"heatmap\",\"colorbar\":{\"outlinewidth\":0,\"ticks\":\"\"},\"colorscale\":[[0.0,\"#0d0887\"],[0.1111111111111111,\"#46039f\"],[0.2222222222222222,\"#7201a8\"],[0.3333333333333333,\"#9c179e\"],[0.4444444444444444,\"#bd3786\"],[0.5555555555555556,\"#d8576b\"],[0.6666666666666666,\"#ed7953\"],[0.7777777777777778,\"#fb9f3a\"],[0.8888888888888888,\"#fdca26\"],[1.0,\"#f0f921\"]]}],\"heatmapgl\":[{\"type\":\"heatmapgl\",\"colorbar\":{\"outlinewidth\":0,\"ticks\":\"\"},\"colorscale\":[[0.0,\"#0d0887\"],[0.1111111111111111,\"#46039f\"],[0.2222222222222222,\"#7201a8\"],[0.3333333333333333,\"#9c179e\"],[0.4444444444444444,\"#bd3786\"],[0.5555555555555556,\"#d8576b\"],[0.6666666666666666,\"#ed7953\"],[0.7777777777777778,\"#fb9f3a\"],[0.8888888888888888,\"#fdca26\"],[1.0,\"#f0f921\"]]}],\"contourcarpet\":[{\"type\":\"contourcarpet\",\"colorbar\":{\"outlinewidth\":0,\"ticks\":\"\"}}],\"contour\":[{\"type\":\"contour\",\"colorbar\":{\"outlinewidth\":0,\"ticks\":\"\"},\"colorscale\":[[0.0,\"#0d0887\"],[0.1111111111111111,\"#46039f\"],[0.2222222222222222,\"#7201a8\"],[0.3333333333333333,\"#9c179e\"],[0.4444444444444444,\"#bd3786\"],[0.5555555555555556,\"#d8576b\"],[0.6666666666666666,\"#ed7953\"],[0.7777777777777778,\"#fb9f3a\"],[0.8888888888888888,\"#fdca26\"],[1.0,\"#f0f921\"]]}],\"surface\":[{\"type\":\"surface\",\"colorbar\":{\"outlinewidth\":0,\"ticks\":\"\"},\"colorscale\":[[0.0,\"#0d0887\"],[0.1111111111111111,\"#46039f\"],[0.2222222222222222,\"#7201a8\"],[0.3333333333333333,\"#9c179e\"],[0.4444444444444444,\"#bd3786\"],[0.5555555555555556,\"#d8576b\"],[0.6666666666666666,\"#ed7953\"],[0.7777777777777778,\"#fb9f3a\"],[0.8888888888888888,\"#fdca26\"],[1.0,\"#f0f921\"]]}],\"mesh3d\":[{\"type\":\"mesh3d\",\"colorbar\":{\"outlinewidth\":0,\"ticks\":\"\"}}],\"scatter\":[{\"fillpattern\":{\"fillmode\":\"overlay\",\"size\":10,\"solidity\":0.2},\"type\":\"scatter\"}],\"parcoords\":[{\"type\":\"parcoords\",\"line\":{\"colorbar\":{\"outlinewidth\":0,\"ticks\":\"\"}}}],\"scatterpolargl\":[{\"type\":\"scatterpolargl\",\"marker\":{\"colorbar\":{\"outlinewidth\":0,\"ticks\":\"\"}}}],\"bar\":[{\"error_x\":{\"color\":\"#2a3f5f\"},\"error_y\":{\"color\":\"#2a3f5f\"},\"marker\":{\"line\":{\"color\":\"#E5ECF6\",\"width\":0.5},\"pattern\":{\"fillmode\":\"overlay\",\"size\":10,\"solidity\":0.2}},\"type\":\"bar\"}],\"scattergeo\":[{\"type\":\"scattergeo\",\"marker\":{\"colorbar\":{\"outlinewidth\":0,\"ticks\":\"\"}}}],\"scatterpolar\":[{\"type\":\"scatterpolar\",\"marker\":{\"colorbar\":{\"outlinewidth\":0,\"ticks\":\"\"}}}],\"histogram\":[{\"marker\":{\"pattern\":{\"fillmode\":\"overlay\",\"size\":10,\"solidity\":0.2}},\"type\":\"histogram\"}],\"scattergl\":[{\"type\":\"scattergl\",\"marker\":{\"colorbar\":{\"outlinewidth\":0,\"ticks\":\"\"}}}],\"scatter3d\":[{\"type\":\"scatter3d\",\"line\":{\"colorbar\":{\"outlinewidth\":0,\"ticks\":\"\"}},\"marker\":{\"colorbar\":{\"outlinewidth\":0,\"ticks\":\"\"}}}],\"scattermapbox\":[{\"type\":\"scattermapbox\",\"marker\":{\"colorbar\":{\"outlinewidth\":0,\"ticks\":\"\"}}}],\"scatterternary\":[{\"type\":\"scatterternary\",\"marker\":{\"colorbar\":{\"outlinewidth\":0,\"ticks\":\"\"}}}],\"scattercarpet\":[{\"type\":\"scattercarpet\",\"marker\":{\"colorbar\":{\"outlinewidth\":0,\"ticks\":\"\"}}}],\"carpet\":[{\"aaxis\":{\"endlinecolor\":\"#2a3f5f\",\"gridcolor\":\"white\",\"linecolor\":\"white\",\"minorgridcolor\":\"white\",\"startlinecolor\":\"#2a3f5f\"},\"baxis\":{\"endlinecolor\":\"#2a3f5f\",\"gridcolor\":\"white\",\"linecolor\":\"white\",\"minorgridcolor\":\"white\",\"startlinecolor\":\"#2a3f5f\"},\"type\":\"carpet\"}],\"table\":[{\"cells\":{\"fill\":{\"color\":\"#EBF0F8\"},\"line\":{\"color\":\"white\"}},\"header\":{\"fill\":{\"color\":\"#C8D4E3\"},\"line\":{\"color\":\"white\"}},\"type\":\"table\"}],\"barpolar\":[{\"marker\":{\"line\":{\"color\":\"#E5ECF6\",\"width\":0.5},\"pattern\":{\"fillmode\":\"overlay\",\"size\":10,\"solidity\":0.2}},\"type\":\"barpolar\"}],\"pie\":[{\"automargin\":true,\"type\":\"pie\"}]},\"layout\":{\"autotypenumbers\":\"strict\",\"colorway\":[\"#636efa\",\"#EF553B\",\"#00cc96\",\"#ab63fa\",\"#FFA15A\",\"#19d3f3\",\"#FF6692\",\"#B6E880\",\"#FF97FF\",\"#FECB52\"],\"font\":{\"color\":\"#2a3f5f\"},\"hovermode\":\"closest\",\"hoverlabel\":{\"align\":\"left\"},\"paper_bgcolor\":\"white\",\"plot_bgcolor\":\"#E5ECF6\",\"polar\":{\"bgcolor\":\"#E5ECF6\",\"angularaxis\":{\"gridcolor\":\"white\",\"linecolor\":\"white\",\"ticks\":\"\"},\"radialaxis\":{\"gridcolor\":\"white\",\"linecolor\":\"white\",\"ticks\":\"\"}},\"ternary\":{\"bgcolor\":\"#E5ECF6\",\"aaxis\":{\"gridcolor\":\"white\",\"linecolor\":\"white\",\"ticks\":\"\"},\"baxis\":{\"gridcolor\":\"white\",\"linecolor\":\"white\",\"ticks\":\"\"},\"caxis\":{\"gridcolor\":\"white\",\"linecolor\":\"white\",\"ticks\":\"\"}},\"coloraxis\":{\"colorbar\":{\"outlinewidth\":0,\"ticks\":\"\"}},\"colorscale\":{\"sequential\":[[0.0,\"#0d0887\"],[0.1111111111111111,\"#46039f\"],[0.2222222222222222,\"#7201a8\"],[0.3333333333333333,\"#9c179e\"],[0.4444444444444444,\"#bd3786\"],[0.5555555555555556,\"#d8576b\"],[0.6666666666666666,\"#ed7953\"],[0.7777777777777778,\"#fb9f3a\"],[0.8888888888888888,\"#fdca26\"],[1.0,\"#f0f921\"]],\"sequentialminus\":[[0.0,\"#0d0887\"],[0.1111111111111111,\"#46039f\"],[0.2222222222222222,\"#7201a8\"],[0.3333333333333333,\"#9c179e\"],[0.4444444444444444,\"#bd3786\"],[0.5555555555555556,\"#d8576b\"],[0.6666666666666666,\"#ed7953\"],[0.7777777777777778,\"#fb9f3a\"],[0.8888888888888888,\"#fdca26\"],[1.0,\"#f0f921\"]],\"diverging\":[[0,\"#8e0152\"],[0.1,\"#c51b7d\"],[0.2,\"#de77ae\"],[0.3,\"#f1b6da\"],[0.4,\"#fde0ef\"],[0.5,\"#f7f7f7\"],[0.6,\"#e6f5d0\"],[0.7,\"#b8e186\"],[0.8,\"#7fbc41\"],[0.9,\"#4d9221\"],[1,\"#276419\"]]},\"xaxis\":{\"gridcolor\":\"white\",\"linecolor\":\"white\",\"ticks\":\"\",\"title\":{\"standoff\":15},\"zerolinecolor\":\"white\",\"automargin\":true,\"zerolinewidth\":2},\"yaxis\":{\"gridcolor\":\"white\",\"linecolor\":\"white\",\"ticks\":\"\",\"title\":{\"standoff\":15},\"zerolinecolor\":\"white\",\"automargin\":true,\"zerolinewidth\":2},\"scene\":{\"xaxis\":{\"backgroundcolor\":\"#E5ECF6\",\"gridcolor\":\"white\",\"linecolor\":\"white\",\"showbackground\":true,\"ticks\":\"\",\"zerolinecolor\":\"white\",\"gridwidth\":2},\"yaxis\":{\"backgroundcolor\":\"#E5ECF6\",\"gridcolor\":\"white\",\"linecolor\":\"white\",\"showbackground\":true,\"ticks\":\"\",\"zerolinecolor\":\"white\",\"gridwidth\":2},\"zaxis\":{\"backgroundcolor\":\"#E5ECF6\",\"gridcolor\":\"white\",\"linecolor\":\"white\",\"showbackground\":true,\"ticks\":\"\",\"zerolinecolor\":\"white\",\"gridwidth\":2}},\"shapedefaults\":{\"line\":{\"color\":\"#2a3f5f\"}},\"annotationdefaults\":{\"arrowcolor\":\"#2a3f5f\",\"arrowhead\":0,\"arrowwidth\":1},\"geo\":{\"bgcolor\":\"white\",\"landcolor\":\"#E5ECF6\",\"subunitcolor\":\"white\",\"showland\":true,\"showlakes\":true,\"lakecolor\":\"white\"},\"title\":{\"x\":0.05},\"mapbox\":{\"style\":\"light\"}}},\"xaxis\":{\"anchor\":\"y\",\"domain\":[0.0,1.0],\"title\":{\"text\":\"Time\"}},\"yaxis\":{\"anchor\":\"x\",\"domain\":[0.0,1.0],\"title\":{\"text\":\"Area km2\"}},\"legend\":{\"title\":{\"text\":\"Land Use\"},\"tracegroupgap\":0},\"margin\":{\"t\":60},\"title\":{\"text\":\"Land Use Over Time\"}},                        {\"responsive\": true}                    ).then(function(){\n",
              "                            \n",
              "var gd = document.getElementById('a83d371d-1749-4b86-a53e-0ae5bf038ac6');\n",
              "var x = new MutationObserver(function (mutations, observer) {{\n",
              "        var display = window.getComputedStyle(gd).display;\n",
              "        if (!display || display === 'none') {{\n",
              "            console.log([gd, 'removed!']);\n",
              "            Plotly.purge(gd);\n",
              "            observer.disconnect();\n",
              "        }}\n",
              "}});\n",
              "\n",
              "// Listen for the removal of the full notebook cells\n",
              "var notebookContainer = gd.closest('#notebook-container');\n",
              "if (notebookContainer) {{\n",
              "    x.observe(notebookContainer, {childList: true});\n",
              "}}\n",
              "\n",
              "// Listen for the clearing of the current output cell\n",
              "var outputEl = gd.closest('.output');\n",
              "if (outputEl) {{\n",
              "    x.observe(outputEl, {childList: true});\n",
              "}}\n",
              "\n",
              "                        })                };                            </script>        </div>\n",
              "</body>\n",
              "</html>"
            ]
          },
          "metadata": {}
        }
      ]
    }
  ]
}
