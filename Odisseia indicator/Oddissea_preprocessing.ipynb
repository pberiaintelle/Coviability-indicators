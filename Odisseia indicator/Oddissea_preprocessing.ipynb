{
  "nbformat": 4,
  "nbformat_minor": 0,
  "metadata": {
    "colab": {
      "provenance": []
    },
    "kernelspec": {
      "name": "python3",
      "display_name": "Python 3"
    },
    "language_info": {
      "name": "python"
    }
  },
  "cells": [
    {
      "cell_type": "code",
      "execution_count": null,
      "metadata": {
        "id": "Xid7kXjlHwj3"
      },
      "outputs": [],
      "source": [
        "import geopandas as gpd\n",
        "import pandas as pd\n",
        "import numpy as np"
      ]
    },
    {
      "cell_type": "code",
      "source": [
        "from google.colab import files\n",
        "a= files.upload()"
      ],
      "metadata": {
        "id": "-OtGmiEuIN_f",
        "colab": {
          "base_uri": "https://localhost:8080/",
          "height": 73
        },
        "outputId": "3e8e4b3b-b5b4-4f18-afbe-db0c9d12484c"
      },
      "execution_count": null,
      "outputs": [
        {
          "output_type": "display_data",
          "data": {
            "text/plain": [
              "<IPython.core.display.HTML object>"
            ],
            "text/html": [
              "\n",
              "     <input type=\"file\" id=\"files-4dccf40a-9e92-48d5-ae7b-be2a8f9b4848\" name=\"files[]\" multiple disabled\n",
              "        style=\"border:none\" />\n",
              "     <output id=\"result-4dccf40a-9e92-48d5-ae7b-be2a8f9b4848\">\n",
              "      Upload widget is only available when the cell has been executed in the\n",
              "      current browser session. Please rerun this cell to enable.\n",
              "      </output>\n",
              "      <script>// Copyright 2017 Google LLC\n",
              "//\n",
              "// Licensed under the Apache License, Version 2.0 (the \"License\");\n",
              "// you may not use this file except in compliance with the License.\n",
              "// You may obtain a copy of the License at\n",
              "//\n",
              "//      http://www.apache.org/licenses/LICENSE-2.0\n",
              "//\n",
              "// Unless required by applicable law or agreed to in writing, software\n",
              "// distributed under the License is distributed on an \"AS IS\" BASIS,\n",
              "// WITHOUT WARRANTIES OR CONDITIONS OF ANY KIND, either express or implied.\n",
              "// See the License for the specific language governing permissions and\n",
              "// limitations under the License.\n",
              "\n",
              "/**\n",
              " * @fileoverview Helpers for google.colab Python module.\n",
              " */\n",
              "(function(scope) {\n",
              "function span(text, styleAttributes = {}) {\n",
              "  const element = document.createElement('span');\n",
              "  element.textContent = text;\n",
              "  for (const key of Object.keys(styleAttributes)) {\n",
              "    element.style[key] = styleAttributes[key];\n",
              "  }\n",
              "  return element;\n",
              "}\n",
              "\n",
              "// Max number of bytes which will be uploaded at a time.\n",
              "const MAX_PAYLOAD_SIZE = 100 * 1024;\n",
              "\n",
              "function _uploadFiles(inputId, outputId) {\n",
              "  const steps = uploadFilesStep(inputId, outputId);\n",
              "  const outputElement = document.getElementById(outputId);\n",
              "  // Cache steps on the outputElement to make it available for the next call\n",
              "  // to uploadFilesContinue from Python.\n",
              "  outputElement.steps = steps;\n",
              "\n",
              "  return _uploadFilesContinue(outputId);\n",
              "}\n",
              "\n",
              "// This is roughly an async generator (not supported in the browser yet),\n",
              "// where there are multiple asynchronous steps and the Python side is going\n",
              "// to poll for completion of each step.\n",
              "// This uses a Promise to block the python side on completion of each step,\n",
              "// then passes the result of the previous step as the input to the next step.\n",
              "function _uploadFilesContinue(outputId) {\n",
              "  const outputElement = document.getElementById(outputId);\n",
              "  const steps = outputElement.steps;\n",
              "\n",
              "  const next = steps.next(outputElement.lastPromiseValue);\n",
              "  return Promise.resolve(next.value.promise).then((value) => {\n",
              "    // Cache the last promise value to make it available to the next\n",
              "    // step of the generator.\n",
              "    outputElement.lastPromiseValue = value;\n",
              "    return next.value.response;\n",
              "  });\n",
              "}\n",
              "\n",
              "/**\n",
              " * Generator function which is called between each async step of the upload\n",
              " * process.\n",
              " * @param {string} inputId Element ID of the input file picker element.\n",
              " * @param {string} outputId Element ID of the output display.\n",
              " * @return {!Iterable<!Object>} Iterable of next steps.\n",
              " */\n",
              "function* uploadFilesStep(inputId, outputId) {\n",
              "  const inputElement = document.getElementById(inputId);\n",
              "  inputElement.disabled = false;\n",
              "\n",
              "  const outputElement = document.getElementById(outputId);\n",
              "  outputElement.innerHTML = '';\n",
              "\n",
              "  const pickedPromise = new Promise((resolve) => {\n",
              "    inputElement.addEventListener('change', (e) => {\n",
              "      resolve(e.target.files);\n",
              "    });\n",
              "  });\n",
              "\n",
              "  const cancel = document.createElement('button');\n",
              "  inputElement.parentElement.appendChild(cancel);\n",
              "  cancel.textContent = 'Cancel upload';\n",
              "  const cancelPromise = new Promise((resolve) => {\n",
              "    cancel.onclick = () => {\n",
              "      resolve(null);\n",
              "    };\n",
              "  });\n",
              "\n",
              "  // Wait for the user to pick the files.\n",
              "  const files = yield {\n",
              "    promise: Promise.race([pickedPromise, cancelPromise]),\n",
              "    response: {\n",
              "      action: 'starting',\n",
              "    }\n",
              "  };\n",
              "\n",
              "  cancel.remove();\n",
              "\n",
              "  // Disable the input element since further picks are not allowed.\n",
              "  inputElement.disabled = true;\n",
              "\n",
              "  if (!files) {\n",
              "    return {\n",
              "      response: {\n",
              "        action: 'complete',\n",
              "      }\n",
              "    };\n",
              "  }\n",
              "\n",
              "  for (const file of files) {\n",
              "    const li = document.createElement('li');\n",
              "    li.append(span(file.name, {fontWeight: 'bold'}));\n",
              "    li.append(span(\n",
              "        `(${file.type || 'n/a'}) - ${file.size} bytes, ` +\n",
              "        `last modified: ${\n",
              "            file.lastModifiedDate ? file.lastModifiedDate.toLocaleDateString() :\n",
              "                                    'n/a'} - `));\n",
              "    const percent = span('0% done');\n",
              "    li.appendChild(percent);\n",
              "\n",
              "    outputElement.appendChild(li);\n",
              "\n",
              "    const fileDataPromise = new Promise((resolve) => {\n",
              "      const reader = new FileReader();\n",
              "      reader.onload = (e) => {\n",
              "        resolve(e.target.result);\n",
              "      };\n",
              "      reader.readAsArrayBuffer(file);\n",
              "    });\n",
              "    // Wait for the data to be ready.\n",
              "    let fileData = yield {\n",
              "      promise: fileDataPromise,\n",
              "      response: {\n",
              "        action: 'continue',\n",
              "      }\n",
              "    };\n",
              "\n",
              "    // Use a chunked sending to avoid message size limits. See b/62115660.\n",
              "    let position = 0;\n",
              "    do {\n",
              "      const length = Math.min(fileData.byteLength - position, MAX_PAYLOAD_SIZE);\n",
              "      const chunk = new Uint8Array(fileData, position, length);\n",
              "      position += length;\n",
              "\n",
              "      const base64 = btoa(String.fromCharCode.apply(null, chunk));\n",
              "      yield {\n",
              "        response: {\n",
              "          action: 'append',\n",
              "          file: file.name,\n",
              "          data: base64,\n",
              "        },\n",
              "      };\n",
              "\n",
              "      let percentDone = fileData.byteLength === 0 ?\n",
              "          100 :\n",
              "          Math.round((position / fileData.byteLength) * 100);\n",
              "      percent.textContent = `${percentDone}% done`;\n",
              "\n",
              "    } while (position < fileData.byteLength);\n",
              "  }\n",
              "\n",
              "  // All done.\n",
              "  yield {\n",
              "    response: {\n",
              "      action: 'complete',\n",
              "    }\n",
              "  };\n",
              "}\n",
              "\n",
              "scope.google = scope.google || {};\n",
              "scope.google.colab = scope.google.colab || {};\n",
              "scope.google.colab._files = {\n",
              "  _uploadFiles,\n",
              "  _uploadFilesContinue,\n",
              "};\n",
              "})(self);\n",
              "</script> "
            ]
          },
          "metadata": {}
        },
        {
          "output_type": "stream",
          "name": "stdout",
          "text": [
            "Saving order_mun.geojson to order_mun.geojson\n"
          ]
        }
      ]
    },
    {
      "cell_type": "markdown",
      "source": [
        "# Preprocess Odisseia data. Select indicators and tidy up dataframe"
      ],
      "metadata": {
        "id": "3zC_fhlFs3TV"
      }
    },
    {
      "cell_type": "code",
      "source": [
        "#Select specific indices from Odisseia\n",
        "# List of population values to filter\n",
        "selected_id = [1064, 472, 1081, 19]\n",
        "\n",
        "# Filter CSV data based on selected populations\n",
        "filtered_csv_df = filtered[filtered['variavel_id'].isin(selected_id)]\n"
      ],
      "metadata": {
        "id": "czqLFQBLJudx"
      },
      "execution_count": null,
      "outputs": []
    },
    {
      "cell_type": "code",
      "source": [
        "filtered_csv_df.to_csv('odisseia_sel.csv', index=False)"
      ],
      "metadata": {
        "id": "UxoLdTFZINC2"
      },
      "execution_count": null,
      "outputs": []
    },
    {
      "cell_type": "code",
      "source": [
        "#CHECK dtaframe from Odisseia\n",
        "# Load CSV data\n",
        "csv_path = \"odisseia_sel.csv\"\n",
        "csv_df = pd.read_csv(csv_path, encoding='cp1252')\n",
        "print(csv_df.info())\n",
        "print(csv_df.head(5))"
      ],
      "metadata": {
        "colab": {
          "base_uri": "https://localhost:8080/",
          "height": 390
        },
        "id": "zSLQtx1xiw9c",
        "outputId": "db7a4f24-6917-4693-fa82-fa6e934034aa"
      },
      "execution_count": null,
      "outputs": [
        {
          "output_type": "error",
          "ename": "FileNotFoundError",
          "evalue": "ignored",
          "traceback": [
            "\u001b[0;31m---------------------------------------------------------------------------\u001b[0m",
            "\u001b[0;31mFileNotFoundError\u001b[0m                         Traceback (most recent call last)",
            "\u001b[0;32m<ipython-input-8-03e5e671b40c>\u001b[0m in \u001b[0;36m<cell line: 4>\u001b[0;34m()\u001b[0m\n\u001b[1;32m      2\u001b[0m \u001b[0;31m# Load CSV data\u001b[0m\u001b[0;34m\u001b[0m\u001b[0;34m\u001b[0m\u001b[0m\n\u001b[1;32m      3\u001b[0m \u001b[0mcsv_path\u001b[0m \u001b[0;34m=\u001b[0m \u001b[0;34m\"odisseia_sel.csv\"\u001b[0m\u001b[0;34m\u001b[0m\u001b[0;34m\u001b[0m\u001b[0m\n\u001b[0;32m----> 4\u001b[0;31m \u001b[0mcsv_df\u001b[0m \u001b[0;34m=\u001b[0m \u001b[0mpd\u001b[0m\u001b[0;34m.\u001b[0m\u001b[0mread_csv\u001b[0m\u001b[0;34m(\u001b[0m\u001b[0mcsv_path\u001b[0m\u001b[0;34m,\u001b[0m \u001b[0mencoding\u001b[0m\u001b[0;34m=\u001b[0m\u001b[0;34m'cp1252'\u001b[0m\u001b[0;34m)\u001b[0m\u001b[0;34m\u001b[0m\u001b[0;34m\u001b[0m\u001b[0m\n\u001b[0m\u001b[1;32m      5\u001b[0m \u001b[0mprint\u001b[0m\u001b[0;34m(\u001b[0m\u001b[0mcsv_df\u001b[0m\u001b[0;34m.\u001b[0m\u001b[0minfo\u001b[0m\u001b[0;34m(\u001b[0m\u001b[0;34m)\u001b[0m\u001b[0;34m)\u001b[0m\u001b[0;34m\u001b[0m\u001b[0;34m\u001b[0m\u001b[0m\n\u001b[1;32m      6\u001b[0m \u001b[0mprint\u001b[0m\u001b[0;34m(\u001b[0m\u001b[0mcsv_df\u001b[0m\u001b[0;34m.\u001b[0m\u001b[0mhead\u001b[0m\u001b[0;34m(\u001b[0m\u001b[0;36m5\u001b[0m\u001b[0;34m)\u001b[0m\u001b[0;34m)\u001b[0m\u001b[0;34m\u001b[0m\u001b[0;34m\u001b[0m\u001b[0m\n",
            "\u001b[0;32m/usr/local/lib/python3.10/dist-packages/pandas/util/_decorators.py\u001b[0m in \u001b[0;36mwrapper\u001b[0;34m(*args, **kwargs)\u001b[0m\n\u001b[1;32m    209\u001b[0m                 \u001b[0;32melse\u001b[0m\u001b[0;34m:\u001b[0m\u001b[0;34m\u001b[0m\u001b[0;34m\u001b[0m\u001b[0m\n\u001b[1;32m    210\u001b[0m                     \u001b[0mkwargs\u001b[0m\u001b[0;34m[\u001b[0m\u001b[0mnew_arg_name\u001b[0m\u001b[0;34m]\u001b[0m \u001b[0;34m=\u001b[0m \u001b[0mnew_arg_value\u001b[0m\u001b[0;34m\u001b[0m\u001b[0;34m\u001b[0m\u001b[0m\n\u001b[0;32m--> 211\u001b[0;31m             \u001b[0;32mreturn\u001b[0m \u001b[0mfunc\u001b[0m\u001b[0;34m(\u001b[0m\u001b[0;34m*\u001b[0m\u001b[0margs\u001b[0m\u001b[0;34m,\u001b[0m \u001b[0;34m**\u001b[0m\u001b[0mkwargs\u001b[0m\u001b[0;34m)\u001b[0m\u001b[0;34m\u001b[0m\u001b[0;34m\u001b[0m\u001b[0m\n\u001b[0m\u001b[1;32m    212\u001b[0m \u001b[0;34m\u001b[0m\u001b[0m\n\u001b[1;32m    213\u001b[0m         \u001b[0;32mreturn\u001b[0m \u001b[0mcast\u001b[0m\u001b[0;34m(\u001b[0m\u001b[0mF\u001b[0m\u001b[0;34m,\u001b[0m \u001b[0mwrapper\u001b[0m\u001b[0;34m)\u001b[0m\u001b[0;34m\u001b[0m\u001b[0;34m\u001b[0m\u001b[0m\n",
            "\u001b[0;32m/usr/local/lib/python3.10/dist-packages/pandas/util/_decorators.py\u001b[0m in \u001b[0;36mwrapper\u001b[0;34m(*args, **kwargs)\u001b[0m\n\u001b[1;32m    329\u001b[0m                     \u001b[0mstacklevel\u001b[0m\u001b[0;34m=\u001b[0m\u001b[0mfind_stack_level\u001b[0m\u001b[0;34m(\u001b[0m\u001b[0;34m)\u001b[0m\u001b[0;34m,\u001b[0m\u001b[0;34m\u001b[0m\u001b[0;34m\u001b[0m\u001b[0m\n\u001b[1;32m    330\u001b[0m                 )\n\u001b[0;32m--> 331\u001b[0;31m             \u001b[0;32mreturn\u001b[0m \u001b[0mfunc\u001b[0m\u001b[0;34m(\u001b[0m\u001b[0;34m*\u001b[0m\u001b[0margs\u001b[0m\u001b[0;34m,\u001b[0m \u001b[0;34m**\u001b[0m\u001b[0mkwargs\u001b[0m\u001b[0;34m)\u001b[0m\u001b[0;34m\u001b[0m\u001b[0;34m\u001b[0m\u001b[0m\n\u001b[0m\u001b[1;32m    332\u001b[0m \u001b[0;34m\u001b[0m\u001b[0m\n\u001b[1;32m    333\u001b[0m         \u001b[0;31m# error: \"Callable[[VarArg(Any), KwArg(Any)], Any]\" has no\u001b[0m\u001b[0;34m\u001b[0m\u001b[0;34m\u001b[0m\u001b[0m\n",
            "\u001b[0;32m/usr/local/lib/python3.10/dist-packages/pandas/io/parsers/readers.py\u001b[0m in \u001b[0;36mread_csv\u001b[0;34m(filepath_or_buffer, sep, delimiter, header, names, index_col, usecols, squeeze, prefix, mangle_dupe_cols, dtype, engine, converters, true_values, false_values, skipinitialspace, skiprows, skipfooter, nrows, na_values, keep_default_na, na_filter, verbose, skip_blank_lines, parse_dates, infer_datetime_format, keep_date_col, date_parser, dayfirst, cache_dates, iterator, chunksize, compression, thousands, decimal, lineterminator, quotechar, quoting, doublequote, escapechar, comment, encoding, encoding_errors, dialect, error_bad_lines, warn_bad_lines, on_bad_lines, delim_whitespace, low_memory, memory_map, float_precision, storage_options)\u001b[0m\n\u001b[1;32m    948\u001b[0m     \u001b[0mkwds\u001b[0m\u001b[0;34m.\u001b[0m\u001b[0mupdate\u001b[0m\u001b[0;34m(\u001b[0m\u001b[0mkwds_defaults\u001b[0m\u001b[0;34m)\u001b[0m\u001b[0;34m\u001b[0m\u001b[0;34m\u001b[0m\u001b[0m\n\u001b[1;32m    949\u001b[0m \u001b[0;34m\u001b[0m\u001b[0m\n\u001b[0;32m--> 950\u001b[0;31m     \u001b[0;32mreturn\u001b[0m \u001b[0m_read\u001b[0m\u001b[0;34m(\u001b[0m\u001b[0mfilepath_or_buffer\u001b[0m\u001b[0;34m,\u001b[0m \u001b[0mkwds\u001b[0m\u001b[0;34m)\u001b[0m\u001b[0;34m\u001b[0m\u001b[0;34m\u001b[0m\u001b[0m\n\u001b[0m\u001b[1;32m    951\u001b[0m \u001b[0;34m\u001b[0m\u001b[0m\n\u001b[1;32m    952\u001b[0m \u001b[0;34m\u001b[0m\u001b[0m\n",
            "\u001b[0;32m/usr/local/lib/python3.10/dist-packages/pandas/io/parsers/readers.py\u001b[0m in \u001b[0;36m_read\u001b[0;34m(filepath_or_buffer, kwds)\u001b[0m\n\u001b[1;32m    603\u001b[0m \u001b[0;34m\u001b[0m\u001b[0m\n\u001b[1;32m    604\u001b[0m     \u001b[0;31m# Create the parser.\u001b[0m\u001b[0;34m\u001b[0m\u001b[0;34m\u001b[0m\u001b[0m\n\u001b[0;32m--> 605\u001b[0;31m     \u001b[0mparser\u001b[0m \u001b[0;34m=\u001b[0m \u001b[0mTextFileReader\u001b[0m\u001b[0;34m(\u001b[0m\u001b[0mfilepath_or_buffer\u001b[0m\u001b[0;34m,\u001b[0m \u001b[0;34m**\u001b[0m\u001b[0mkwds\u001b[0m\u001b[0;34m)\u001b[0m\u001b[0;34m\u001b[0m\u001b[0;34m\u001b[0m\u001b[0m\n\u001b[0m\u001b[1;32m    606\u001b[0m \u001b[0;34m\u001b[0m\u001b[0m\n\u001b[1;32m    607\u001b[0m     \u001b[0;32mif\u001b[0m \u001b[0mchunksize\u001b[0m \u001b[0;32mor\u001b[0m \u001b[0miterator\u001b[0m\u001b[0;34m:\u001b[0m\u001b[0;34m\u001b[0m\u001b[0;34m\u001b[0m\u001b[0m\n",
            "\u001b[0;32m/usr/local/lib/python3.10/dist-packages/pandas/io/parsers/readers.py\u001b[0m in \u001b[0;36m__init__\u001b[0;34m(self, f, engine, **kwds)\u001b[0m\n\u001b[1;32m   1440\u001b[0m \u001b[0;34m\u001b[0m\u001b[0m\n\u001b[1;32m   1441\u001b[0m         \u001b[0mself\u001b[0m\u001b[0;34m.\u001b[0m\u001b[0mhandles\u001b[0m\u001b[0;34m:\u001b[0m \u001b[0mIOHandles\u001b[0m \u001b[0;34m|\u001b[0m \u001b[0;32mNone\u001b[0m \u001b[0;34m=\u001b[0m \u001b[0;32mNone\u001b[0m\u001b[0;34m\u001b[0m\u001b[0;34m\u001b[0m\u001b[0m\n\u001b[0;32m-> 1442\u001b[0;31m         \u001b[0mself\u001b[0m\u001b[0;34m.\u001b[0m\u001b[0m_engine\u001b[0m \u001b[0;34m=\u001b[0m \u001b[0mself\u001b[0m\u001b[0;34m.\u001b[0m\u001b[0m_make_engine\u001b[0m\u001b[0;34m(\u001b[0m\u001b[0mf\u001b[0m\u001b[0;34m,\u001b[0m \u001b[0mself\u001b[0m\u001b[0;34m.\u001b[0m\u001b[0mengine\u001b[0m\u001b[0;34m)\u001b[0m\u001b[0;34m\u001b[0m\u001b[0;34m\u001b[0m\u001b[0m\n\u001b[0m\u001b[1;32m   1443\u001b[0m \u001b[0;34m\u001b[0m\u001b[0m\n\u001b[1;32m   1444\u001b[0m     \u001b[0;32mdef\u001b[0m \u001b[0mclose\u001b[0m\u001b[0;34m(\u001b[0m\u001b[0mself\u001b[0m\u001b[0;34m)\u001b[0m \u001b[0;34m->\u001b[0m \u001b[0;32mNone\u001b[0m\u001b[0;34m:\u001b[0m\u001b[0;34m\u001b[0m\u001b[0;34m\u001b[0m\u001b[0m\n",
            "\u001b[0;32m/usr/local/lib/python3.10/dist-packages/pandas/io/parsers/readers.py\u001b[0m in \u001b[0;36m_make_engine\u001b[0;34m(self, f, engine)\u001b[0m\n\u001b[1;32m   1733\u001b[0m                 \u001b[0;32mif\u001b[0m \u001b[0;34m\"b\"\u001b[0m \u001b[0;32mnot\u001b[0m \u001b[0;32min\u001b[0m \u001b[0mmode\u001b[0m\u001b[0;34m:\u001b[0m\u001b[0;34m\u001b[0m\u001b[0;34m\u001b[0m\u001b[0m\n\u001b[1;32m   1734\u001b[0m                     \u001b[0mmode\u001b[0m \u001b[0;34m+=\u001b[0m \u001b[0;34m\"b\"\u001b[0m\u001b[0;34m\u001b[0m\u001b[0;34m\u001b[0m\u001b[0m\n\u001b[0;32m-> 1735\u001b[0;31m             self.handles = get_handle(\n\u001b[0m\u001b[1;32m   1736\u001b[0m                 \u001b[0mf\u001b[0m\u001b[0;34m,\u001b[0m\u001b[0;34m\u001b[0m\u001b[0;34m\u001b[0m\u001b[0m\n\u001b[1;32m   1737\u001b[0m                 \u001b[0mmode\u001b[0m\u001b[0;34m,\u001b[0m\u001b[0;34m\u001b[0m\u001b[0;34m\u001b[0m\u001b[0m\n",
            "\u001b[0;32m/usr/local/lib/python3.10/dist-packages/pandas/io/common.py\u001b[0m in \u001b[0;36mget_handle\u001b[0;34m(path_or_buf, mode, encoding, compression, memory_map, is_text, errors, storage_options)\u001b[0m\n\u001b[1;32m    854\u001b[0m         \u001b[0;32mif\u001b[0m \u001b[0mioargs\u001b[0m\u001b[0;34m.\u001b[0m\u001b[0mencoding\u001b[0m \u001b[0;32mand\u001b[0m \u001b[0;34m\"b\"\u001b[0m \u001b[0;32mnot\u001b[0m \u001b[0;32min\u001b[0m \u001b[0mioargs\u001b[0m\u001b[0;34m.\u001b[0m\u001b[0mmode\u001b[0m\u001b[0;34m:\u001b[0m\u001b[0;34m\u001b[0m\u001b[0;34m\u001b[0m\u001b[0m\n\u001b[1;32m    855\u001b[0m             \u001b[0;31m# Encoding\u001b[0m\u001b[0;34m\u001b[0m\u001b[0;34m\u001b[0m\u001b[0m\n\u001b[0;32m--> 856\u001b[0;31m             handle = open(\n\u001b[0m\u001b[1;32m    857\u001b[0m                 \u001b[0mhandle\u001b[0m\u001b[0;34m,\u001b[0m\u001b[0;34m\u001b[0m\u001b[0;34m\u001b[0m\u001b[0m\n\u001b[1;32m    858\u001b[0m                 \u001b[0mioargs\u001b[0m\u001b[0;34m.\u001b[0m\u001b[0mmode\u001b[0m\u001b[0;34m,\u001b[0m\u001b[0;34m\u001b[0m\u001b[0;34m\u001b[0m\u001b[0m\n",
            "\u001b[0;31mFileNotFoundError\u001b[0m: [Errno 2] No such file or directory: 'odisseia_sel.csv'"
          ]
        }
      ]
    },
    {
      "cell_type": "code",
      "source": [
        "#Create new columns from column variables\n",
        "csv_df\n",
        "# Pivot the DataFrame to create new columns for each unique value in 'variavel_nome'\n",
        "# Pivot the DataFrame using custom aggregation function\n",
        "def custom_agg(x):\n",
        "    return x.iloc[0]\n",
        "\n",
        "pivot_df = csv_df.pivot_table(index=['municipio_codigo', 'tema_nome', 'ano', 'mes'],\n",
        "                          columns='variavel_nome',\n",
        "                          values=['valor'],\n",
        "                          aggfunc=custom_agg).reset_index()\n",
        "\n",
        "# Flatten the MultiIndex column labels\n",
        "#pivot_df.columns = [f'{col[0]}_{col[1]}' if col[1] else col[0] for col in pivot_df.columns]\n",
        "pivot_df.columns = ['municipio_codigo', 'Topic', 'Year', 'Month', 'Mortality', 'DAP Person', 'Amount of employed people', '% basic education']\n",
        "#Change name\n",
        "pivot_df.rename(columns={'municipio_codigo': 'CD_MUN'}, inplace=True)\n",
        "\n",
        "# Display the pivot DataFrame\n",
        "print(pivot_df.head(5))\n",
        "print(pivot_df.info())"
      ],
      "metadata": {
        "colab": {
          "base_uri": "https://localhost:8080/",
          "height": 245
        },
        "id": "BAj4h91bmd-t",
        "outputId": "e6306625-2f9e-44cb-d05c-d01fef2b6ec0"
      },
      "execution_count": null,
      "outputs": [
        {
          "output_type": "error",
          "ename": "NameError",
          "evalue": "ignored",
          "traceback": [
            "\u001b[0;31m---------------------------------------------------------------------------\u001b[0m",
            "\u001b[0;31mNameError\u001b[0m                                 Traceback (most recent call last)",
            "\u001b[0;32m<ipython-input-9-4b9b1b4f9a48>\u001b[0m in \u001b[0;36m<cell line: 2>\u001b[0;34m()\u001b[0m\n\u001b[1;32m      1\u001b[0m \u001b[0;31m#Create new columns from column variables\u001b[0m\u001b[0;34m\u001b[0m\u001b[0;34m\u001b[0m\u001b[0m\n\u001b[0;32m----> 2\u001b[0;31m \u001b[0mcsv_df\u001b[0m\u001b[0;34m\u001b[0m\u001b[0;34m\u001b[0m\u001b[0m\n\u001b[0m\u001b[1;32m      3\u001b[0m \u001b[0;31m# Pivot the DataFrame to create new columns for each unique value in 'variavel_nome'\u001b[0m\u001b[0;34m\u001b[0m\u001b[0;34m\u001b[0m\u001b[0m\n\u001b[1;32m      4\u001b[0m \u001b[0;31m# Pivot the DataFrame using custom aggregation function\u001b[0m\u001b[0;34m\u001b[0m\u001b[0;34m\u001b[0m\u001b[0m\n\u001b[1;32m      5\u001b[0m \u001b[0;32mdef\u001b[0m \u001b[0mcustom_agg\u001b[0m\u001b[0;34m(\u001b[0m\u001b[0mx\u001b[0m\u001b[0;34m)\u001b[0m\u001b[0;34m:\u001b[0m\u001b[0;34m\u001b[0m\u001b[0;34m\u001b[0m\u001b[0m\n",
            "\u001b[0;31mNameError\u001b[0m: name 'csv_df' is not defined"
          ]
        }
      ]
    },
    {
      "cell_type": "code",
      "source": [
        "# Select columns for comparison\n",
        "column1 = mun['CD_MUN']\n",
        "column2 = pivot_df['CD_MUN']\n",
        "\n",
        "# Find matching values using isin() and count the matches\n",
        "matching_count = column2.isin(column1).sum()\n",
        "\n",
        "print(\"Number of matching codes:\", matching_count)"
      ],
      "metadata": {
        "colab": {
          "base_uri": "https://localhost:8080/"
        },
        "id": "17HT5LZH0yb4",
        "outputId": "c7fa65a1-a568-409f-c030-fbd95e8f8929"
      },
      "execution_count": null,
      "outputs": [
        {
          "output_type": "stream",
          "name": "stdout",
          "text": [
            "Number of matching codes: 2112\n"
          ]
        }
      ]
    },
    {
      "cell_type": "code",
      "source": [
        "# Count the number of unique values in the selected column\n",
        "unique_count = pivot_df['CD_MUN'].nunique()\n",
        "print(unique_count)"
      ],
      "metadata": {
        "colab": {
          "base_uri": "https://localhost:8080/"
        },
        "id": "pNPOtjA32PX4",
        "outputId": "ffb81d4d-ab32-40b9-826d-90241c6d3208"
      },
      "execution_count": null,
      "outputs": [
        {
          "output_type": "stream",
          "name": "stdout",
          "text": [
            "66\n"
          ]
        }
      ]
    },
    {
      "cell_type": "code",
      "source": [
        "# Assuming your df DataFrame and geojson_df GeoDataFrame are defined\n",
        "named_df = pivot_df.merge(mun[['CD_MUN', 'NM_MUN']], on='CD_MUN', how='left')\n",
        "print(named_df.head(5))\n",
        "print(named_df.info())"
      ],
      "metadata": {
        "colab": {
          "base_uri": "https://localhost:8080/"
        },
        "id": "zvFzDt5gptG4",
        "outputId": "f6ada7f4-3f20-437d-9a5c-2155d7bc2979"
      },
      "execution_count": null,
      "outputs": [
        {
          "output_type": "stream",
          "name": "stdout",
          "text": [
            "    CD_MUN       Topic  Year  Month  Mortality  DAP Person  \\\n",
            "0  2500304  EducaÃ§Ã£o  2016     12        NaN         NaN   \n",
            "1  2500304  EducaÃ§Ã£o  2017     12        NaN         NaN   \n",
            "2  2500304  EducaÃ§Ã£o  2018     12        NaN         NaN   \n",
            "3  2500304  EducaÃ§Ã£o  2019     12        NaN         NaN   \n",
            "4  2500304  EducaÃ§Ã£o  2020     12        NaN         NaN   \n",
            "\n",
            "   Amount of employed people  % basic education         NM_MUN  \n",
            "0                        NaN              73.75  Alagoa Grande  \n",
            "1                        NaN              72.10  Alagoa Grande  \n",
            "2                        NaN              70.35  Alagoa Grande  \n",
            "3                        NaN              69.00  Alagoa Grande  \n",
            "4                        NaN              96.05  Alagoa Grande  \n",
            "<class 'pandas.core.frame.DataFrame'>\n",
            "Int64Index: 2112 entries, 0 to 2111\n",
            "Data columns (total 9 columns):\n",
            " #   Column                     Non-Null Count  Dtype  \n",
            "---  ------                     --------------  -----  \n",
            " 0   CD_MUN                     2112 non-null   int64  \n",
            " 1   Topic                      2112 non-null   object \n",
            " 2   Year                       2112 non-null   int64  \n",
            " 3   Month                      2112 non-null   int64  \n",
            " 4   Mortality                  660 non-null    float64\n",
            " 5   DAP Person                 330 non-null    float64\n",
            " 6   Amount of employed people  792 non-null    float64\n",
            " 7   % basic education          330 non-null    float64\n",
            " 8   NM_MUN                     2112 non-null   object \n",
            "dtypes: float64(4), int64(3), object(2)\n",
            "memory usage: 165.0+ KB\n",
            "None\n"
          ]
        }
      ]
    },
    {
      "cell_type": "code",
      "source": [
        "named_df.to_csv('odisseia_col.csv', index=False)"
      ],
      "metadata": {
        "id": "ZZoJsvlcs-Rm"
      },
      "execution_count": null,
      "outputs": []
    },
    {
      "cell_type": "markdown",
      "source": [
        "# Load df that contains the 4 indicators from Odisseia"
      ],
      "metadata": {
        "id": "OZIqwHZqBfFx"
      }
    },
    {
      "cell_type": "code",
      "source": [
        "#CHECK dtaframe from Odisseia\n",
        "# Load CSV data\n",
        "csv_path = \"odisseia_col.csv\"\n",
        "csv_df = pd.read_csv(csv_path, encoding='cp1252')\n",
        "print(csv_df.info())\n",
        "print(csv_df.head(5))"
      ],
      "metadata": {
        "colab": {
          "base_uri": "https://localhost:8080/"
        },
        "id": "Fc33VdIzoUf3",
        "outputId": "943be08b-8bbc-4c9a-bc87-3a10af711391"
      },
      "execution_count": null,
      "outputs": [
        {
          "output_type": "stream",
          "name": "stdout",
          "text": [
            "<class 'pandas.core.frame.DataFrame'>\n",
            "RangeIndex: 2112 entries, 0 to 2111\n",
            "Data columns (total 9 columns):\n",
            " #   Column                     Non-Null Count  Dtype  \n",
            "---  ------                     --------------  -----  \n",
            " 0   CD_MUN                     2112 non-null   int64  \n",
            " 1   Topic                      2112 non-null   object \n",
            " 2   Year                       2112 non-null   int64  \n",
            " 3   Month                      2112 non-null   int64  \n",
            " 4   Mortality                  660 non-null    float64\n",
            " 5   DAP Person                 330 non-null    float64\n",
            " 6   Amount of employed people  792 non-null    float64\n",
            " 7   % basic education          330 non-null    float64\n",
            " 8   NM_MUN                     2112 non-null   object \n",
            "dtypes: float64(4), int64(3), object(2)\n",
            "memory usage: 148.6+ KB\n",
            "None\n",
            "    CD_MUN           Topic  Year  Month  Mortality  DAP Person  \\\n",
            "0  2500304  EducaÃƒÂ§ÃƒÂ£o  2016     12        NaN         NaN   \n",
            "1  2500304  EducaÃƒÂ§ÃƒÂ£o  2017     12        NaN         NaN   \n",
            "2  2500304  EducaÃƒÂ§ÃƒÂ£o  2018     12        NaN         NaN   \n",
            "3  2500304  EducaÃƒÂ§ÃƒÂ£o  2019     12        NaN         NaN   \n",
            "4  2500304  EducaÃƒÂ§ÃƒÂ£o  2020     12        NaN         NaN   \n",
            "\n",
            "   Amount of employed people  % basic education         NM_MUN  \n",
            "0                        NaN              73.75  Alagoa Grande  \n",
            "1                        NaN              72.10  Alagoa Grande  \n",
            "2                        NaN              70.35  Alagoa Grande  \n",
            "3                        NaN              69.00  Alagoa Grande  \n",
            "4                        NaN              96.05  Alagoa Grande  \n"
          ]
        }
      ]
    },
    {
      "cell_type": "markdown",
      "source": [
        "Function to create a column of indicators"
      ],
      "metadata": {
        "id": "Mf7JGa7Pul5v"
      }
    },
    {
      "cell_type": "markdown",
      "source": [
        "B The good option. Not used any longer"
      ],
      "metadata": {
        "id": "cLPfJ-Xm48Y1"
      }
    },
    {
      "cell_type": "code",
      "source": [
        "def extract_indicators_values(row):\n",
        "    indicators = ''\n",
        "    values = np.nan\n",
        "    columns = ['Mortality', 'DAP Person', 'Amount of employed people', '% basic education']\n",
        "\n",
        "    for col in columns:\n",
        "        if not np.isnan(row[col]):\n",
        "            indicators = col\n",
        "            values = row[col]\n",
        "            break\n",
        "\n",
        "    return indicators, values\n",
        "\n",
        "# Apply the function row-wise to extract indicators and values\n",
        "indicators_values = csv_df.apply(extract_indicators_values, axis=1, result_type='expand')\n",
        "\n",
        "# Create new columns for 'indicator' and 'values'\n",
        "csv_df['indicator'] = indicators_values[0]\n",
        "csv_df['values'] = indicators_values[1]\n",
        "\n",
        "# Convert 'values' column to float\n",
        "csv_df['values'] = csv_df['values'].astype(float)\n",
        "\n",
        "# Display the resulting DataFrame with the new columns\n",
        "print(csv_df.info())\n",
        "print(csv_df.head(5))\n",
        "unique_indicators = csv_df['indicator'].drop_duplicates()\n",
        "\n",
        "# Display the unique values in the 'indicator' column\n",
        "print(unique_indicators)"
      ],
      "metadata": {
        "colab": {
          "base_uri": "https://localhost:8080/"
        },
        "id": "yEhIpClH4s8j",
        "outputId": "9ebf5f74-fd82-4d63-8b59-7db41ff48ed5"
      },
      "execution_count": null,
      "outputs": [
        {
          "output_type": "stream",
          "name": "stdout",
          "text": [
            "<class 'pandas.core.frame.DataFrame'>\n",
            "RangeIndex: 2112 entries, 0 to 2111\n",
            "Data columns (total 11 columns):\n",
            " #   Column                     Non-Null Count  Dtype  \n",
            "---  ------                     --------------  -----  \n",
            " 0   CD_MUN                     2112 non-null   int64  \n",
            " 1   Topic                      2112 non-null   object \n",
            " 2   Year                       2112 non-null   int64  \n",
            " 3   Month                      2112 non-null   int64  \n",
            " 4   Mortality                  660 non-null    float64\n",
            " 5   DAP Person                 330 non-null    float64\n",
            " 6   Amount of employed people  792 non-null    float64\n",
            " 7   % basic education          330 non-null    float64\n",
            " 8   NM_MUN                     2112 non-null   object \n",
            " 9   indicator                  2112 non-null   object \n",
            " 10  values                     2112 non-null   float64\n",
            "dtypes: float64(5), int64(3), object(3)\n",
            "memory usage: 181.6+ KB\n",
            "None\n",
            "    CD_MUN           Topic  Year  Month  Mortality  DAP Person  \\\n",
            "0  2500304  EducaÃƒÂ§ÃƒÂ£o  2016     12        NaN         NaN   \n",
            "1  2500304  EducaÃƒÂ§ÃƒÂ£o  2017     12        NaN         NaN   \n",
            "2  2500304  EducaÃƒÂ§ÃƒÂ£o  2018     12        NaN         NaN   \n",
            "3  2500304  EducaÃƒÂ§ÃƒÂ£o  2019     12        NaN         NaN   \n",
            "4  2500304  EducaÃƒÂ§ÃƒÂ£o  2020     12        NaN         NaN   \n",
            "\n",
            "   Amount of employed people  % basic education         NM_MUN  \\\n",
            "0                        NaN              73.75  Alagoa Grande   \n",
            "1                        NaN              72.10  Alagoa Grande   \n",
            "2                        NaN              70.35  Alagoa Grande   \n",
            "3                        NaN              69.00  Alagoa Grande   \n",
            "4                        NaN              96.05  Alagoa Grande   \n",
            "\n",
            "           indicator  values  \n",
            "0  % basic education   73.75  \n",
            "1  % basic education   72.10  \n",
            "2  % basic education   70.35  \n",
            "3  % basic education   69.00  \n",
            "4  % basic education   96.05  \n",
            "0             % basic education\n",
            "5     Amount of employed people\n",
            "17                    Mortality\n",
            "27                   DAP Person\n",
            "Name: indicator, dtype: object\n"
          ]
        }
      ]
    },
    {
      "cell_type": "code",
      "source": [
        "# Drop specified columns\n",
        "columns_to_drop = ['Topic', 'Year', 'Month', 'Mortality', 'DAP Person', 'Amount of employed people', '% basic education']\n",
        "df_dropped = csv_df.drop(columns=columns_to_drop)\n",
        "\n",
        "# Calculate percentage change for 'values' column based on 'indicator'\n",
        "columns_to_calculate = ['values']\n",
        "\n",
        "for col in columns_to_calculate:\n",
        "    df_dropped[col + '_change'] = df_dropped.groupby('indicator')[col].pct_change() * 100\n",
        "\n",
        "# Display the resulting DataFrame with percentage change columns\n",
        "print(df_dropped)\n",
        "print(df_dropped.info())"
      ],
      "metadata": {
        "colab": {
          "base_uri": "https://localhost:8080/"
        },
        "id": "Fru985p3znj8",
        "outputId": "5789690c-6b55-42cb-9ce1-e886983652ea"
      },
      "execution_count": null,
      "outputs": [
        {
          "output_type": "stream",
          "name": "stdout",
          "text": [
            "       CD_MUN         NM_MUN          indicator   values  values_change\n",
            "0     2500304  Alagoa Grande  % basic education    73.75            NaN\n",
            "1     2500304  Alagoa Grande  % basic education    72.10      -2.237288\n",
            "2     2500304  Alagoa Grande  % basic education    70.35      -2.427184\n",
            "3     2500304  Alagoa Grande  % basic education    69.00      -1.918977\n",
            "4     2500304  Alagoa Grande  % basic education    96.05      39.202899\n",
            "...       ...            ...                ...      ...            ...\n",
            "2107  2517001      Umbuzeiro         DAP Person  1096.00      38.383838\n",
            "2108  2517001      Umbuzeiro         DAP Person  1029.00      -6.113139\n",
            "2109  2517001      Umbuzeiro         DAP Person   824.00     -19.922255\n",
            "2110  2517001      Umbuzeiro         DAP Person   834.00       1.213592\n",
            "2111  2517001      Umbuzeiro         DAP Person   717.00     -14.028777\n",
            "\n",
            "[2112 rows x 5 columns]\n",
            "<class 'pandas.core.frame.DataFrame'>\n",
            "RangeIndex: 2112 entries, 0 to 2111\n",
            "Data columns (total 5 columns):\n",
            " #   Column         Non-Null Count  Dtype  \n",
            "---  ------         --------------  -----  \n",
            " 0   CD_MUN         2112 non-null   int64  \n",
            " 1   NM_MUN         2112 non-null   object \n",
            " 2   indicator      2112 non-null   object \n",
            " 3   values         2112 non-null   float64\n",
            " 4   values_change  2106 non-null   float64\n",
            "dtypes: float64(2), int64(1), object(2)\n",
            "memory usage: 82.6+ KB\n",
            "None\n"
          ]
        }
      ]
    },
    {
      "cell_type": "markdown",
      "source": [
        "Mean values for every time series (*provisional*)"
      ],
      "metadata": {
        "id": "X0egK7LDth4_"
      }
    },
    {
      "cell_type": "code",
      "source": [
        "#Group by and calculate difference\n",
        "mean_columns = ['Mortality', 'DAP Person', 'Amount of employed people', '% basic education']\n",
        "grouped_mean = csv_df.groupby('CD_MUN')[mean_columns].mean().reset_index()\n",
        "\n",
        "# Merge the grouped mean data with the original DataFrame using 'CD_MUN'\n",
        "df_result = csv_df.merge(grouped_mean, on='CD_MUN', suffixes=('', '_mean'))\n",
        "\n",
        "# Drop the original 4, 5, 6, 7, Year, and Month columns\n",
        "columns_to_drop = ['Mortality', 'DAP Person', 'Amount of employed people', '% basic education', 'Year', 'Month','Topic']\n",
        "df_result = df_result.drop(columns=columns_to_drop)\n",
        "\n",
        "# Drop duplicate rows based on 'CD_MUN' and keep only the first occurrence\n",
        "df_unique = df_result.drop_duplicates(subset='CD_MUN', keep ='first')\n",
        "# Display the resulting DataFrame with unique rows\n",
        "print(df_unique)\n",
        "unique_nm_mun_count = df_unique['CD_MUN'].nunique()\n",
        "print(\"Number of unique NM_MUN values:\", unique_nm_mun_count)\n",
        "# Display the resulting DataFrame with unique 'CD_MUN' values\n",
        "print(df_unique)\n",
        "print(df_result.info())\n",
        "#Save averaged odissea data. No time series\n",
        "df_unique.to_csv('od_mean.csv', index=False)"
      ],
      "metadata": {
        "colab": {
          "base_uri": "https://localhost:8080/"
        },
        "id": "VMxT89TlxkZs",
        "outputId": "37737331-76b7-40b6-92bc-41c8f9074f5b"
      },
      "execution_count": null,
      "outputs": [
        {
          "output_type": "stream",
          "name": "stdout",
          "text": [
            "       CD_MUN         NM_MUN  Mortality_mean  DAP Person_mean  \\\n",
            "0     2500304  Alagoa Grande        102.9285           1374.2   \n",
            "32    2500502      Alagoinha         90.2679            776.2   \n",
            "64    2500601       Alhandra         48.3755            460.0   \n",
            "96    2500809       AraÃ§agi         68.8277           1142.4   \n",
            "128   2501104          Areia         83.4726            886.0   \n",
            "...       ...            ...             ...              ...   \n",
            "1952  2515906       Serraria         92.6940            414.4   \n",
            "1984  2515930   SertÃ£ozinho        110.5726            296.8   \n",
            "2016  2515971        Sobrado         60.1325            782.6   \n",
            "2048  2516409         Tacima         77.5048            919.8   \n",
            "2080  2517001      Umbuzeiro         62.5104            900.0   \n",
            "\n",
            "      Amount of employed people_mean  % basic education_mean  \n",
            "0                        1800.916667                   76.25  \n",
            "32                        726.666667                   85.97  \n",
            "64                       3236.500000                   85.08  \n",
            "96                        989.833333                   82.73  \n",
            "128                      1673.166667                   86.39  \n",
            "...                              ...                     ...  \n",
            "1952                      355.083333                   81.49  \n",
            "1984                      348.416667                   87.15  \n",
            "2016                      514.250000                   75.54  \n",
            "2048                      530.666667                   81.67  \n",
            "2080                      581.416667                   91.23  \n",
            "\n",
            "[66 rows x 6 columns]\n",
            "Number of unique NM_MUN values: 66\n",
            "       CD_MUN         NM_MUN  Mortality_mean  DAP Person_mean  \\\n",
            "0     2500304  Alagoa Grande        102.9285           1374.2   \n",
            "32    2500502      Alagoinha         90.2679            776.2   \n",
            "64    2500601       Alhandra         48.3755            460.0   \n",
            "96    2500809       AraÃ§agi         68.8277           1142.4   \n",
            "128   2501104          Areia         83.4726            886.0   \n",
            "...       ...            ...             ...              ...   \n",
            "1952  2515906       Serraria         92.6940            414.4   \n",
            "1984  2515930   SertÃ£ozinho        110.5726            296.8   \n",
            "2016  2515971        Sobrado         60.1325            782.6   \n",
            "2048  2516409         Tacima         77.5048            919.8   \n",
            "2080  2517001      Umbuzeiro         62.5104            900.0   \n",
            "\n",
            "      Amount of employed people_mean  % basic education_mean  \n",
            "0                        1800.916667                   76.25  \n",
            "32                        726.666667                   85.97  \n",
            "64                       3236.500000                   85.08  \n",
            "96                        989.833333                   82.73  \n",
            "128                      1673.166667                   86.39  \n",
            "...                              ...                     ...  \n",
            "1952                      355.083333                   81.49  \n",
            "1984                      348.416667                   87.15  \n",
            "2016                      514.250000                   75.54  \n",
            "2048                      530.666667                   81.67  \n",
            "2080                      581.416667                   91.23  \n",
            "\n",
            "[66 rows x 6 columns]\n",
            "<class 'pandas.core.frame.DataFrame'>\n",
            "Int64Index: 2112 entries, 0 to 2111\n",
            "Data columns (total 6 columns):\n",
            " #   Column                          Non-Null Count  Dtype  \n",
            "---  ------                          --------------  -----  \n",
            " 0   CD_MUN                          2112 non-null   int64  \n",
            " 1   NM_MUN                          2112 non-null   object \n",
            " 2   Mortality_mean                  2112 non-null   float64\n",
            " 3   DAP Person_mean                 2112 non-null   float64\n",
            " 4   Amount of employed people_mean  2112 non-null   float64\n",
            " 5   % basic education_mean          2112 non-null   float64\n",
            "dtypes: float64(4), int64(1), object(1)\n",
            "memory usage: 115.5+ KB\n",
            "None\n"
          ]
        }
      ]
    },
    {
      "cell_type": "markdown",
      "source": [
        "Adapted Geojson for the municipalities"
      ],
      "metadata": {
        "id": "He-yuNsQc9YV"
      }
    },
    {
      "cell_type": "code",
      "source": [
        "geojson_path = \"order_mun.geojson\"\n",
        "mun = gpd.read_file(geojson_path)\n",
        "print(mun)\n",
        "print(mun.info())"
      ],
      "metadata": {
        "colab": {
          "base_uri": "https://localhost:8080/"
        },
        "id": "hsNQv8cJc2hV",
        "outputId": "516f6406-7bce-4242-ab99-45ca59ea6f66"
      },
      "execution_count": null,
      "outputs": [
        {
          "output_type": "stream",
          "name": "stdout",
          "text": [
            "     CD_MUN         NM_MUN SIGLA  AREA_KM2  \\\n",
            "0   2500304  Alagoa Grande    PB   322.071   \n",
            "1   2500502      Alagoinha    PB   111.361   \n",
            "2   2500601       Alhandra    PB   183.974   \n",
            "3   2500809        Araçagi    PB   232.177   \n",
            "4   2501104          Areia    PB   269.130   \n",
            "..      ...            ...   ...       ...   \n",
            "61  2515906       Serraria    PB    65.062   \n",
            "62  2515930    Sertãozinho    PB    32.455   \n",
            "63  2515971        Sobrado    PB    61.953   \n",
            "64  2516409         Tacima    PB   245.236   \n",
            "65  2517001      Umbuzeiro    PB   185.578   \n",
            "\n",
            "                                             geometry  \n",
            "0   MULTIPOLYGON (((-35.58723 -6.95548, -35.58732 ...  \n",
            "1   MULTIPOLYGON (((-35.46875 -6.93963, -35.46756 ...  \n",
            "2   MULTIPOLYGON (((-34.93716 -7.26991, -34.93784 ...  \n",
            "3   MULTIPOLYGON (((-35.36915 -6.75595, -35.36924 ...  \n",
            "4   MULTIPOLYGON (((-35.79893 -6.86625, -35.79882 ...  \n",
            "..                                                ...  \n",
            "61  MULTIPOLYGON (((-35.61821 -6.80927, -35.60694 ...  \n",
            "62  MULTIPOLYGON (((-35.37107 -6.74772, -35.37383 ...  \n",
            "63  MULTIPOLYGON (((-35.23817 -7.11874, -35.23763 ...  \n",
            "64  MULTIPOLYGON (((-35.62674 -6.45550, -35.62287 ...  \n",
            "65  MULTIPOLYGON (((-35.64529 -7.62417, -35.64435 ...  \n",
            "\n",
            "[66 rows x 5 columns]\n",
            "<class 'geopandas.geodataframe.GeoDataFrame'>\n",
            "RangeIndex: 66 entries, 0 to 65\n",
            "Data columns (total 5 columns):\n",
            " #   Column    Non-Null Count  Dtype   \n",
            "---  ------    --------------  -----   \n",
            " 0   CD_MUN    66 non-null     int64   \n",
            " 1   NM_MUN    66 non-null     object  \n",
            " 2   SIGLA     66 non-null     object  \n",
            " 3   AREA_KM2  66 non-null     float64 \n",
            " 4   geometry  66 non-null     geometry\n",
            "dtypes: float64(1), geometry(1), int64(1), object(2)\n",
            "memory usage: 2.7+ KB\n",
            "None\n"
          ]
        }
      ]
    },
    {
      "cell_type": "markdown",
      "source": [
        "Mean values for each indicator"
      ],
      "metadata": {
        "id": "TLGM0xY4c3A1"
      }
    },
    {
      "cell_type": "code",
      "source": [
        "od_mean = pd.read_csv('od_mean.csv', encoding='cp1252')\n",
        "# Display the resulting DataFrame with percentage change columns\n",
        "print(od_mean)\n",
        "print(od_mean.info())"
      ],
      "metadata": {
        "colab": {
          "base_uri": "https://localhost:8080/"
        },
        "id": "Xl236BMCb5jG",
        "outputId": "bb2a8570-eb7c-4f84-896c-339a07aa4a41"
      },
      "execution_count": null,
      "outputs": [
        {
          "output_type": "stream",
          "name": "stdout",
          "text": [
            "     CD_MUN                   Topic          NM_MUN  Mortality_mean  \\\n",
            "0   2500304  EducaÃƒÆ’Ã‚Â§ÃƒÆ’Ã‚Â£o   Alagoa Grande        102.9285   \n",
            "1   2500502  EducaÃƒÆ’Ã‚Â§ÃƒÆ’Ã‚Â£o       Alagoinha         90.2679   \n",
            "2   2500601  EducaÃƒÆ’Ã‚Â§ÃƒÆ’Ã‚Â£o        Alhandra         48.3755   \n",
            "3   2500809  EducaÃƒÆ’Ã‚Â§ÃƒÆ’Ã‚Â£o      AraÃƒÂ§agi         68.8277   \n",
            "4   2501104  EducaÃƒÆ’Ã‚Â§ÃƒÆ’Ã‚Â£o           Areia         83.4726   \n",
            "..      ...                     ...             ...             ...   \n",
            "61  2515906  EducaÃƒÆ’Ã‚Â§ÃƒÆ’Ã‚Â£o        Serraria         92.6940   \n",
            "62  2515930  EducaÃƒÆ’Ã‚Â§ÃƒÆ’Ã‚Â£o  SertÃƒÂ£ozinho        110.5726   \n",
            "63  2515971  EducaÃƒÆ’Ã‚Â§ÃƒÆ’Ã‚Â£o         Sobrado         60.1325   \n",
            "64  2516409  EducaÃƒÆ’Ã‚Â§ÃƒÆ’Ã‚Â£o          Tacima         77.5048   \n",
            "65  2517001  EducaÃƒÆ’Ã‚Â§ÃƒÆ’Ã‚Â£o       Umbuzeiro         62.5104   \n",
            "\n",
            "    DAP Person_mean  Amount of employed people_mean  % basic education_mean  \n",
            "0            1374.2                     1800.916667                   76.25  \n",
            "1             776.2                      726.666667                   85.97  \n",
            "2             460.0                     3236.500000                   85.08  \n",
            "3            1142.4                      989.833333                   82.73  \n",
            "4             886.0                     1673.166667                   86.39  \n",
            "..              ...                             ...                     ...  \n",
            "61            414.4                      355.083333                   81.49  \n",
            "62            296.8                      348.416667                   87.15  \n",
            "63            782.6                      514.250000                   75.54  \n",
            "64            919.8                      530.666667                   81.67  \n",
            "65            900.0                      581.416667                   91.23  \n",
            "\n",
            "[66 rows x 7 columns]\n",
            "<class 'pandas.core.frame.DataFrame'>\n",
            "RangeIndex: 66 entries, 0 to 65\n",
            "Data columns (total 7 columns):\n",
            " #   Column                          Non-Null Count  Dtype  \n",
            "---  ------                          --------------  -----  \n",
            " 0   CD_MUN                          66 non-null     int64  \n",
            " 1   Topic                           66 non-null     object \n",
            " 2   NM_MUN                          66 non-null     object \n",
            " 3   Mortality_mean                  66 non-null     float64\n",
            " 4   DAP Person_mean                 66 non-null     float64\n",
            " 5   Amount of employed people_mean  66 non-null     float64\n",
            " 6   % basic education_mean          66 non-null     float64\n",
            "dtypes: float64(4), int64(1), object(2)\n",
            "memory usage: 3.7+ KB\n",
            "None\n"
          ]
        }
      ]
    },
    {
      "cell_type": "code",
      "source": [
        "# Drop columns 5, 6, and 7\n",
        "columns_to_drop = ['Mortality', 'DAP Person', 'Amount of employed people']\n",
        "df = csv_df.drop(columns=columns_to_drop)\n",
        "\n",
        "# Filter rows with non-null values in the '% basic education' column\n",
        "df = df[df['% basic education'].notnull()]\n",
        "\n",
        "# Group by 'CD_MUN' and calculate the mean of '% basic education', keeping 'NM_MUN'\n",
        "aggregated_df = df.groupby(['CD_MUN', 'NM_MUN'])['% basic education'].mean().reset_index()\n",
        "\n",
        "# Display the aggregated DataFrame\n",
        "print(aggregated_df)\n",
        "print(aggregated_df.info())\n",
        "\n",
        "aggregated_df.to_csv('odisseia_agg.csv', index=False)"
      ],
      "metadata": {
        "colab": {
          "base_uri": "https://localhost:8080/"
        },
        "id": "Vm_qiESbyfPc",
        "outputId": "57c292e8-1593-4b6c-cc88-da1d438eff5b"
      },
      "execution_count": null,
      "outputs": [
        {
          "output_type": "stream",
          "name": "stdout",
          "text": [
            "     CD_MUN         NM_MUN  % basic education\n",
            "0   2500304  Alagoa Grande              76.25\n",
            "1   2500502      Alagoinha              85.97\n",
            "2   2500601       Alhandra              85.08\n",
            "3   2500809       AraÃ§agi              82.73\n",
            "4   2501104          Areia              86.39\n",
            "..      ...            ...                ...\n",
            "61  2515906       Serraria              81.49\n",
            "62  2515930   SertÃ£ozinho              87.15\n",
            "63  2515971        Sobrado              75.54\n",
            "64  2516409         Tacima              81.67\n",
            "65  2517001      Umbuzeiro              91.23\n",
            "\n",
            "[66 rows x 3 columns]\n",
            "<class 'pandas.core.frame.DataFrame'>\n",
            "RangeIndex: 66 entries, 0 to 65\n",
            "Data columns (total 3 columns):\n",
            " #   Column             Non-Null Count  Dtype  \n",
            "---  ------             --------------  -----  \n",
            " 0   CD_MUN             66 non-null     int64  \n",
            " 1   NM_MUN             66 non-null     object \n",
            " 2   % basic education  66 non-null     float64\n",
            "dtypes: float64(1), int64(1), object(1)\n",
            "memory usage: 1.7+ KB\n",
            "None\n"
          ]
        }
      ]
    },
    {
      "cell_type": "code",
      "source": [
        "\n",
        "geojson_path = \"bboxMunicipalities.geojson\"\n",
        "mun = gpd.read_file(geojson_path)\n",
        "# Convert CD_MUN column to int64 data type\n",
        "mun['CD_MUN'] = mun['CD_MUN'].astype('int64')\n",
        "# Get the unique 'CD_MUN' values from the DataFrame\n",
        "unique_cd_mun_values = aggregated_df['CD_MUN'].unique()\n",
        "# Keep only the rows in geodataframe that have matching 'CD_MUN' values\n",
        "m_gdf = mun[mun['CD_MUN'].isin(unique_cd_mun_values)]\n",
        "# Merge the 'df' DataFrame with the 'geodataframe' to get the desired order\n",
        "ordered_geodataframe = pd.merge(aggregated_df[['CD_MUN']], m_gdf, on='CD_MUN', how='left')\n",
        "\n",
        "# Sort the ordered GeoJSON DataFrame based on the original order of 'CD_MUN' in 'df'\n",
        "ordered_geodataframe.sort_values(by='CD_MUN', inplace=True)\n",
        "\n",
        "# Display the ordered GeoJSON DataFrame\n",
        "print(ordered_geodataframe)\n",
        "print(\"\\nGeoJSON DataFrame:\")\n",
        "\n",
        "print(ordered_geodataframe.info())\n"
      ],
      "metadata": {
        "colab": {
          "base_uri": "https://localhost:8080/",
          "height": 245
        },
        "id": "i1k0kuoD6EDM",
        "outputId": "aabc6ed0-1e89-472a-bb79-fdcd374a8d70"
      },
      "execution_count": null,
      "outputs": [
        {
          "output_type": "error",
          "ename": "NameError",
          "evalue": "ignored",
          "traceback": [
            "\u001b[0;31m---------------------------------------------------------------------------\u001b[0m",
            "\u001b[0;31mNameError\u001b[0m                                 Traceback (most recent call last)",
            "\u001b[0;32m<ipython-input-25-068beeff1323>\u001b[0m in \u001b[0;36m<cell line: 6>\u001b[0;34m()\u001b[0m\n\u001b[1;32m      4\u001b[0m \u001b[0mmun\u001b[0m\u001b[0;34m[\u001b[0m\u001b[0;34m'CD_MUN'\u001b[0m\u001b[0;34m]\u001b[0m \u001b[0;34m=\u001b[0m \u001b[0mmun\u001b[0m\u001b[0;34m[\u001b[0m\u001b[0;34m'CD_MUN'\u001b[0m\u001b[0;34m]\u001b[0m\u001b[0;34m.\u001b[0m\u001b[0mastype\u001b[0m\u001b[0;34m(\u001b[0m\u001b[0;34m'int64'\u001b[0m\u001b[0;34m)\u001b[0m\u001b[0;34m\u001b[0m\u001b[0;34m\u001b[0m\u001b[0m\n\u001b[1;32m      5\u001b[0m \u001b[0;31m# Get the unique 'CD_MUN' values from the DataFrame\u001b[0m\u001b[0;34m\u001b[0m\u001b[0;34m\u001b[0m\u001b[0m\n\u001b[0;32m----> 6\u001b[0;31m \u001b[0munique_cd_mun_values\u001b[0m \u001b[0;34m=\u001b[0m \u001b[0maggregated_df\u001b[0m\u001b[0;34m[\u001b[0m\u001b[0;34m'CD_MUN'\u001b[0m\u001b[0;34m]\u001b[0m\u001b[0;34m.\u001b[0m\u001b[0munique\u001b[0m\u001b[0;34m(\u001b[0m\u001b[0;34m)\u001b[0m\u001b[0;34m\u001b[0m\u001b[0;34m\u001b[0m\u001b[0m\n\u001b[0m\u001b[1;32m      7\u001b[0m \u001b[0;31m# Keep only the rows in geodataframe that have matching 'CD_MUN' values\u001b[0m\u001b[0;34m\u001b[0m\u001b[0;34m\u001b[0m\u001b[0m\n\u001b[1;32m      8\u001b[0m \u001b[0mm_gdf\u001b[0m \u001b[0;34m=\u001b[0m \u001b[0mmun\u001b[0m\u001b[0;34m[\u001b[0m\u001b[0mmun\u001b[0m\u001b[0;34m[\u001b[0m\u001b[0;34m'CD_MUN'\u001b[0m\u001b[0;34m]\u001b[0m\u001b[0;34m.\u001b[0m\u001b[0misin\u001b[0m\u001b[0;34m(\u001b[0m\u001b[0munique_cd_mun_values\u001b[0m\u001b[0;34m)\u001b[0m\u001b[0;34m]\u001b[0m\u001b[0;34m\u001b[0m\u001b[0;34m\u001b[0m\u001b[0m\n",
            "\u001b[0;31mNameError\u001b[0m: name 'aggregated_df' is not defined"
          ]
        }
      ]
    },
    {
      "cell_type": "markdown",
      "source": [
        "# Check structure of the municipalities Geodataframe"
      ],
      "metadata": {
        "id": "6Bn9iPAHtwc9"
      }
    },
    {
      "cell_type": "code",
      "source": [
        "import geopandas as gpd\n",
        "# Specify the path and filename for the GeoJSON file\n",
        "geojson_path = 'order_mun.geojson'\n",
        "mun = gpd.read_file(geojson_path)\n",
        "#geo_df = gpd.GeoDataFrame(output_geojson_path, geometry='geometry')\n",
        "# Set 'CD_MUN' as the index\n",
        "geo_df = mun.set_index('CD_MUN')\n",
        "# Save the GeoDataFrame as a GeoJSON file\n",
        "geo_df.to_file('order_mun', driver='GeoJSON')\n",
        "# Display the ordered GeoJSON DataFrame\n",
        "print(geo_df)\n",
        "print(\"\\nGeoJSON DataFrame:\")\n",
        "\n",
        "print(geo_df.info())"
      ],
      "metadata": {
        "colab": {
          "base_uri": "https://localhost:8080/"
        },
        "id": "ngGXK8B5Ap4P",
        "outputId": "2ab915d9-2214-493f-b0af-ee7b42cf35b0"
      },
      "execution_count": null,
      "outputs": [
        {
          "output_type": "stream",
          "name": "stdout",
          "text": [
            "                NM_MUN SIGLA  AREA_KM2  \\\n",
            "CD_MUN                                   \n",
            "2500304  Alagoa Grande    PB   322.071   \n",
            "2500502      Alagoinha    PB   111.361   \n",
            "2500601       Alhandra    PB   183.974   \n",
            "2500809        Araçagi    PB   232.177   \n",
            "2501104          Areia    PB   269.130   \n",
            "...                ...   ...       ...   \n",
            "2515906       Serraria    PB    65.062   \n",
            "2515930    Sertãozinho    PB    32.455   \n",
            "2515971        Sobrado    PB    61.953   \n",
            "2516409         Tacima    PB   245.236   \n",
            "2517001      Umbuzeiro    PB   185.578   \n",
            "\n",
            "                                                  geometry  \n",
            "CD_MUN                                                      \n",
            "2500304  MULTIPOLYGON (((-35.58723 -6.95548, -35.58732 ...  \n",
            "2500502  MULTIPOLYGON (((-35.46875 -6.93963, -35.46756 ...  \n",
            "2500601  MULTIPOLYGON (((-34.93716 -7.26991, -34.93784 ...  \n",
            "2500809  MULTIPOLYGON (((-35.36915 -6.75595, -35.36924 ...  \n",
            "2501104  MULTIPOLYGON (((-35.79893 -6.86625, -35.79882 ...  \n",
            "...                                                    ...  \n",
            "2515906  MULTIPOLYGON (((-35.61821 -6.80927, -35.60694 ...  \n",
            "2515930  MULTIPOLYGON (((-35.37107 -6.74772, -35.37383 ...  \n",
            "2515971  MULTIPOLYGON (((-35.23817 -7.11874, -35.23763 ...  \n",
            "2516409  MULTIPOLYGON (((-35.62674 -6.45550, -35.62287 ...  \n",
            "2517001  MULTIPOLYGON (((-35.64529 -7.62417, -35.64435 ...  \n",
            "\n",
            "[66 rows x 4 columns]\n",
            "\n",
            "GeoJSON DataFrame:\n",
            "<class 'geopandas.geodataframe.GeoDataFrame'>\n",
            "Int64Index: 66 entries, 2500304 to 2517001\n",
            "Data columns (total 4 columns):\n",
            " #   Column    Non-Null Count  Dtype   \n",
            "---  ------    --------------  -----   \n",
            " 0   NM_MUN    66 non-null     object  \n",
            " 1   SIGLA     66 non-null     object  \n",
            " 2   AREA_KM2  66 non-null     float64 \n",
            " 3   geometry  66 non-null     geometry\n",
            "dtypes: float64(1), geometry(1), object(2)\n",
            "memory usage: 2.6+ KB\n",
            "None\n"
          ]
        }
      ]
    }
  ]
}